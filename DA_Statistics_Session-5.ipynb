{
 "cells": [
  {
   "cell_type": "markdown",
   "id": "4e885722",
   "metadata": {},
   "source": [
    "# Statistics - Session-5"
   ]
  },
  {
   "cell_type": "markdown",
   "id": "40ba94a5",
   "metadata": {},
   "source": [
    "# One Sample t Test"
   ]
  },
  {
   "cell_type": "code",
   "execution_count": 1,
   "id": "25958acf",
   "metadata": {
    "ExecuteTime": {
     "end_time": "2022-06-30T19:21:23.901067Z",
     "start_time": "2022-06-30T19:21:15.216270Z"
    }
   },
   "outputs": [],
   "source": [
    "import numpy as np\n",
    "from scipy import stats\n",
    "import matplotlib.pyplot as plt\n",
    "import seaborn as sns"
   ]
  },
  {
   "cell_type": "markdown",
   "id": "e0b04101",
   "metadata": {},
   "source": [
    "__Example-1__"
   ]
  },
  {
   "cell_type": "markdown",
   "id": "2bac4801",
   "metadata": {},
   "source": []
  },
  {
   "cell_type": "code",
   "execution_count": 2,
   "id": "fb9ff89b",
   "metadata": {
    "ExecuteTime": {
     "end_time": "2022-06-30T19:22:53.298825Z",
     "start_time": "2022-06-30T19:22:53.286069Z"
    }
   },
   "outputs": [],
   "source": [
    "xbar = 10.5 \n",
    "sigma = 1.5 \n",
    "n = 40 \n",
    "mu = 10"
   ]
  },
  {
   "cell_type": "code",
   "execution_count": null,
   "id": "0aeb92a1",
   "metadata": {},
   "outputs": [],
   "source": [
    "H0 : mu = 10\n",
    "Ha : mu > 10"
   ]
  },
  {
   "cell_type": "markdown",
   "id": "407d1fe3",
   "metadata": {},
   "source": [
    "__--Test Statistic__"
   ]
  },
  {
   "cell_type": "code",
   "execution_count": 4,
   "id": "d4d434a1",
   "metadata": {
    "ExecuteTime": {
     "end_time": "2022-06-30T19:25:06.858866Z",
     "start_time": "2022-06-30T19:25:06.760395Z"
    }
   },
   "outputs": [
    {
     "data": {
      "text/plain": [
       "2.1081851067789197"
      ]
     },
     "execution_count": 4,
     "metadata": {},
     "output_type": "execute_result"
    }
   ],
   "source": [
    "z = (xbar - mu) / (sigma/np.sqrt(n))\n",
    "z"
   ]
  },
  {
   "cell_type": "markdown",
   "id": "5e9c9d85",
   "metadata": {},
   "source": [
    "__--P-Value__"
   ]
  },
  {
   "cell_type": "code",
   "execution_count": 5,
   "id": "b9b84236",
   "metadata": {
    "ExecuteTime": {
     "end_time": "2022-06-30T19:25:55.964912Z",
     "start_time": "2022-06-30T19:25:55.922979Z"
    }
   },
   "outputs": [
    {
     "data": {
      "text/plain": [
       "0.017507490509831247"
      ]
     },
     "execution_count": 5,
     "metadata": {},
     "output_type": "execute_result"
    }
   ],
   "source": [
    "p = 1- stats.norm.cdf(z)\n",
    "p"
   ]
  },
  {
   "cell_type": "markdown",
   "id": "b32d9905",
   "metadata": {},
   "source": [
    "P-Value < 0.05 --> reject to H0"
   ]
  },
  {
   "cell_type": "code",
   "execution_count": null,
   "id": "731313ff",
   "metadata": {},
   "outputs": [],
   "source": []
  },
  {
   "cell_type": "code",
   "execution_count": null,
   "id": "c4c47fbf",
   "metadata": {},
   "outputs": [],
   "source": [
    "stats.ttest_1samp(a, 10, alternative=\"greater\")"
   ]
  },
  {
   "cell_type": "code",
   "execution_count": null,
   "id": "9316a617",
   "metadata": {},
   "outputs": [],
   "source": []
  },
  {
   "cell_type": "code",
   "execution_count": 6,
   "id": "96483617",
   "metadata": {
    "ExecuteTime": {
     "end_time": "2022-06-30T19:30:45.391249Z",
     "start_time": "2022-06-30T19:30:45.332430Z"
    }
   },
   "outputs": [],
   "source": [
    "df = sns.load_dataset(\"mpg\")"
   ]
  },
  {
   "cell_type": "code",
   "execution_count": null,
   "id": "5ec8a104",
   "metadata": {},
   "outputs": [],
   "source": [
    "df.abshead()"
   ]
  },
  {
   "cell_type": "code",
   "execution_count": 7,
   "id": "b8c6d8bb",
   "metadata": {
    "ExecuteTime": {
     "end_time": "2022-06-30T19:31:34.710887Z",
     "start_time": "2022-06-30T19:31:34.615712Z"
    }
   },
   "outputs": [
    {
     "data": {
      "text/html": [
       "<div>\n",
       "<style scoped>\n",
       "    .dataframe tbody tr th:only-of-type {\n",
       "        vertical-align: middle;\n",
       "    }\n",
       "\n",
       "    .dataframe tbody tr th {\n",
       "        vertical-align: top;\n",
       "    }\n",
       "\n",
       "    .dataframe thead th {\n",
       "        text-align: right;\n",
       "    }\n",
       "</style>\n",
       "<table border=\"1\" class=\"dataframe\">\n",
       "  <thead>\n",
       "    <tr style=\"text-align: right;\">\n",
       "      <th></th>\n",
       "      <th>mpg</th>\n",
       "      <th>cylinders</th>\n",
       "      <th>displacement</th>\n",
       "      <th>horsepower</th>\n",
       "      <th>weight</th>\n",
       "      <th>acceleration</th>\n",
       "      <th>model_year</th>\n",
       "    </tr>\n",
       "  </thead>\n",
       "  <tbody>\n",
       "    <tr>\n",
       "      <th>count</th>\n",
       "      <td>249.000000</td>\n",
       "      <td>249.000000</td>\n",
       "      <td>249.000000</td>\n",
       "      <td>245.00000</td>\n",
       "      <td>249.000000</td>\n",
       "      <td>249.000000</td>\n",
       "      <td>249.000000</td>\n",
       "    </tr>\n",
       "    <tr>\n",
       "      <th>mean</th>\n",
       "      <td>20.083534</td>\n",
       "      <td>6.248996</td>\n",
       "      <td>245.901606</td>\n",
       "      <td>119.04898</td>\n",
       "      <td>3361.931727</td>\n",
       "      <td>15.033735</td>\n",
       "      <td>75.610442</td>\n",
       "    </tr>\n",
       "    <tr>\n",
       "      <th>std</th>\n",
       "      <td>6.402892</td>\n",
       "      <td>1.661425</td>\n",
       "      <td>98.501839</td>\n",
       "      <td>39.89779</td>\n",
       "      <td>794.792506</td>\n",
       "      <td>2.751112</td>\n",
       "      <td>3.677094</td>\n",
       "    </tr>\n",
       "    <tr>\n",
       "      <th>min</th>\n",
       "      <td>9.000000</td>\n",
       "      <td>4.000000</td>\n",
       "      <td>85.000000</td>\n",
       "      <td>52.00000</td>\n",
       "      <td>1800.000000</td>\n",
       "      <td>8.000000</td>\n",
       "      <td>70.000000</td>\n",
       "    </tr>\n",
       "    <tr>\n",
       "      <th>25%</th>\n",
       "      <td>15.000000</td>\n",
       "      <td>4.000000</td>\n",
       "      <td>151.000000</td>\n",
       "      <td>88.00000</td>\n",
       "      <td>2720.000000</td>\n",
       "      <td>13.000000</td>\n",
       "      <td>73.000000</td>\n",
       "    </tr>\n",
       "    <tr>\n",
       "      <th>50%</th>\n",
       "      <td>18.500000</td>\n",
       "      <td>6.000000</td>\n",
       "      <td>250.000000</td>\n",
       "      <td>105.00000</td>\n",
       "      <td>3365.000000</td>\n",
       "      <td>15.000000</td>\n",
       "      <td>76.000000</td>\n",
       "    </tr>\n",
       "    <tr>\n",
       "      <th>75%</th>\n",
       "      <td>24.000000</td>\n",
       "      <td>8.000000</td>\n",
       "      <td>318.000000</td>\n",
       "      <td>150.00000</td>\n",
       "      <td>4054.000000</td>\n",
       "      <td>16.900000</td>\n",
       "      <td>79.000000</td>\n",
       "    </tr>\n",
       "    <tr>\n",
       "      <th>max</th>\n",
       "      <td>39.000000</td>\n",
       "      <td>8.000000</td>\n",
       "      <td>455.000000</td>\n",
       "      <td>230.00000</td>\n",
       "      <td>5140.000000</td>\n",
       "      <td>22.200000</td>\n",
       "      <td>82.000000</td>\n",
       "    </tr>\n",
       "  </tbody>\n",
       "</table>\n",
       "</div>"
      ],
      "text/plain": [
       "              mpg   cylinders  displacement  horsepower       weight  \\\n",
       "count  249.000000  249.000000    249.000000   245.00000   249.000000   \n",
       "mean    20.083534    6.248996    245.901606   119.04898  3361.931727   \n",
       "std      6.402892    1.661425     98.501839    39.89779   794.792506   \n",
       "min      9.000000    4.000000     85.000000    52.00000  1800.000000   \n",
       "25%     15.000000    4.000000    151.000000    88.00000  2720.000000   \n",
       "50%     18.500000    6.000000    250.000000   105.00000  3365.000000   \n",
       "75%     24.000000    8.000000    318.000000   150.00000  4054.000000   \n",
       "max     39.000000    8.000000    455.000000   230.00000  5140.000000   \n",
       "\n",
       "       acceleration  model_year  \n",
       "count    249.000000  249.000000  \n",
       "mean      15.033735   75.610442  \n",
       "std        2.751112    3.677094  \n",
       "min        8.000000   70.000000  \n",
       "25%       13.000000   73.000000  \n",
       "50%       15.000000   76.000000  \n",
       "75%       16.900000   79.000000  \n",
       "max       22.200000   82.000000  "
      ]
     },
     "execution_count": 7,
     "metadata": {},
     "output_type": "execute_result"
    }
   ],
   "source": [
    "df[df[\"origin\"] == \"usa\"].describe()"
   ]
  },
  {
   "cell_type": "markdown",
   "id": "baa815e5",
   "metadata": {},
   "source": [
    "Horsepower\n",
    "\n",
    "H0 : mu = 110  \n",
    "H1 : mu > 110\n",
    "\n",
    "--alternative and short code for ttest"
   ]
  },
  {
   "cell_type": "code",
   "execution_count": 9,
   "id": "4d7a5cab",
   "metadata": {
    "ExecuteTime": {
     "end_time": "2022-06-30T19:37:16.611626Z",
     "start_time": "2022-06-30T19:37:16.592982Z"
    }
   },
   "outputs": [
    {
     "data": {
      "text/plain": [
       "Ttest_1sampResult(statistic=3.550044602017898, pvalue=0.0002310035889540432)"
      ]
     },
     "execution_count": 9,
     "metadata": {},
     "output_type": "execute_result"
    }
   ],
   "source": [
    "stats.ttest_1samp(df[df[\"origin\"] == \"usa\"][\"horsepower\"].dropna(), 110, alternative=\"greater\")"
   ]
  },
  {
   "cell_type": "markdown",
   "id": "d00ed3ef",
   "metadata": {},
   "source": []
  },
  {
   "cell_type": "markdown",
   "id": "6714ff5e",
   "metadata": {},
   "source": [
    "MPG\n",
    "\n",
    "H0 : mu = 22 \n",
    "H1 : mu < 22\n",
    "\n",
    "--alternative and short code for ttest"
   ]
  },
  {
   "cell_type": "code",
   "execution_count": 10,
   "id": "082e5b94",
   "metadata": {
    "ExecuteTime": {
     "end_time": "2022-06-30T19:38:52.905678Z",
     "start_time": "2022-06-30T19:38:52.887824Z"
    }
   },
   "outputs": [
    {
     "data": {
      "text/plain": [
       "Ttest_1sampResult(statistic=-4.723072192881628, pvalue=1.9455026028456406e-06)"
      ]
     },
     "execution_count": 10,
     "metadata": {},
     "output_type": "execute_result"
    }
   ],
   "source": [
    "stats.ttest_1samp(df[df[\"origin\"] == \"usa\"][\"mpg\"].dropna(), 22, alternative=\"less\")"
   ]
  },
  {
   "cell_type": "code",
   "execution_count": null,
   "id": "466d651d",
   "metadata": {},
   "outputs": [],
   "source": []
  },
  {
   "cell_type": "code",
   "execution_count": 11,
   "id": "84ae7f54",
   "metadata": {
    "ExecuteTime": {
     "end_time": "2022-06-30T19:46:14.054035Z",
     "start_time": "2022-06-30T19:46:14.037272Z"
    }
   },
   "outputs": [
    {
     "data": {
      "text/plain": [
       "Ttest_1sampResult(statistic=-7.953024725516988, pvalue=0.9999999999853763)"
      ]
     },
     "execution_count": 11,
     "metadata": {},
     "output_type": "execute_result"
    }
   ],
   "source": [
    "stats.ttest_1samp(df[df[\"origin\"] == \"europe\"][\"horsepower\"].dropna(), 100, alternative=\"greater\")"
   ]
  },
  {
   "cell_type": "code",
   "execution_count": null,
   "id": "4ad56b10",
   "metadata": {},
   "outputs": [],
   "source": []
  },
  {
   "cell_type": "code",
   "execution_count": null,
   "id": "bdfa8083",
   "metadata": {},
   "outputs": [],
   "source": []
  }
 ],
 "metadata": {
  "kernelspec": {
   "display_name": "Python 3 (ipykernel)",
   "language": "python",
   "name": "python3"
  },
  "language_info": {
   "codemirror_mode": {
    "name": "ipython",
    "version": 3
   },
   "file_extension": ".py",
   "mimetype": "text/x-python",
   "name": "python",
   "nbconvert_exporter": "python",
   "pygments_lexer": "ipython3",
   "version": "3.9.7"
  }
 },
 "nbformat": 4,
 "nbformat_minor": 5
}
