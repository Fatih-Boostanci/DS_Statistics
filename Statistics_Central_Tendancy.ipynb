{
 "cells": [
  {
   "cell_type": "markdown",
   "id": "25e16c91",
   "metadata": {},
   "source": [
    "# PRE-CLASS (20 Apr 2022)"
   ]
  },
  {
   "cell_type": "markdown",
   "id": "8e8dbcb9",
   "metadata": {},
   "source": [
    "## Central Tendancy"
   ]
  },
  {
   "cell_type": "code",
   "execution_count": 3,
   "id": "4576a22f",
   "metadata": {},
   "outputs": [
    {
     "name": "stdout",
     "output_type": "stream",
     "text": [
      "mean:  37.0\n",
      "median:  30.0\n",
      "mode:  ModeResult(mode=array([33]), count=array([3]))\n"
     ]
    }
   ],
   "source": [
    "import numpy as np\n",
    "from scipy import stats\n",
    "\n",
    "salary = [102, 33, 26, 27, 30, 25, 33, 33, 24]\n",
    "\n",
    "mean_salary = np.mean(salary)\n",
    "print(\"mean: \", mean_salary)\n",
    "\n",
    "median_salary = np.median(salary)\n",
    "print(\"median: \", median_salary)\n",
    "\n",
    "mode_salary = stats.mode(salary)\n",
    "print(\"mode: \", mode_salary)"
   ]
  },
  {
   "cell_type": "markdown",
   "id": "2747b4e5",
   "metadata": {},
   "source": [
    "# IN-CLASS (20 Apr 2022)"
   ]
  },
  {
   "cell_type": "code",
   "execution_count": 1,
   "id": "c8211428",
   "metadata": {},
   "outputs": [],
   "source": [
    "import numpy as np\n",
    "from scipy import stats"
   ]
  },
  {
   "cell_type": "code",
   "execution_count": 2,
   "id": "29432f80",
   "metadata": {},
   "outputs": [
    {
     "data": {
      "text/plain": [
       "9"
      ]
     },
     "execution_count": 2,
     "metadata": {},
     "output_type": "execute_result"
    }
   ],
   "source": [
    "salary = [102, 33, 26, 27, 30, 25, 33, 33, 24]\n",
    "\n",
    "len(salary)"
   ]
  },
  {
   "cell_type": "code",
   "execution_count": 3,
   "id": "3a8012cd",
   "metadata": {},
   "outputs": [
    {
     "name": "stdout",
     "output_type": "stream",
     "text": [
      "mean:  37.0\n"
     ]
    }
   ],
   "source": [
    "mean_salary = np.mean(salary)\n",
    "print(\"mean: \", mean_salary)"
   ]
  },
  {
   "cell_type": "code",
   "execution_count": 5,
   "id": "65006c58",
   "metadata": {},
   "outputs": [
    {
     "name": "stdout",
     "output_type": "stream",
     "text": [
      "median:  30.0\n"
     ]
    }
   ],
   "source": [
    "median_salary = np.median(salary)\n",
    "print(\"median: \", median_salary)"
   ]
  },
  {
   "cell_type": "code",
   "execution_count": 6,
   "id": "245c7fae",
   "metadata": {},
   "outputs": [
    {
     "name": "stdout",
     "output_type": "stream",
     "text": [
      "mode:  ModeResult(mode=array([33]), count=array([3]))\n"
     ]
    }
   ],
   "source": [
    "mode_salary = stats.mode(salary)\n",
    "print(\"mode: \", mode_salary)"
   ]
  },
  {
   "cell_type": "code",
   "execution_count": null,
   "id": "1ab04389",
   "metadata": {},
   "outputs": [],
   "source": []
  }
 ],
 "metadata": {
  "kernelspec": {
   "display_name": "Python 3 (ipykernel)",
   "language": "python",
   "name": "python3"
  },
  "language_info": {
   "codemirror_mode": {
    "name": "ipython",
    "version": 3
   },
   "file_extension": ".py",
   "mimetype": "text/x-python",
   "name": "python",
   "nbconvert_exporter": "python",
   "pygments_lexer": "ipython3",
   "version": "3.9.7"
  }
 },
 "nbformat": 4,
 "nbformat_minor": 5
}
