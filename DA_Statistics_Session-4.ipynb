{
 "cells": [
  {
   "cell_type": "code",
   "execution_count": 1,
   "id": "5ace5a55",
   "metadata": {
    "ExecuteTime": {
     "end_time": "2022-06-29T19:30:40.802214Z",
     "start_time": "2022-06-29T19:30:20.248727Z"
    }
   },
   "outputs": [],
   "source": [
    "import numpy as np\n",
    "from scipy import stats\n",
    "import matplotlib.pyplot as plt\n",
    "import seaborn as sns"
   ]
  },
  {
   "cell_type": "code",
   "execution_count": 14,
   "id": "c56c8819",
   "metadata": {
    "ExecuteTime": {
     "end_time": "2022-06-29T20:12:23.669106Z",
     "start_time": "2022-06-29T20:12:22.517212Z"
    }
   },
   "outputs": [
    {
     "data": {
      "text/plain": [
       "['anagrams',\n",
       " 'anscombe',\n",
       " 'attention',\n",
       " 'brain_networks',\n",
       " 'car_crashes',\n",
       " 'diamonds',\n",
       " 'dots',\n",
       " 'exercise',\n",
       " 'flights',\n",
       " 'fmri',\n",
       " 'gammas',\n",
       " 'geyser',\n",
       " 'iris',\n",
       " 'mpg',\n",
       " 'penguins',\n",
       " 'planets',\n",
       " 'taxis',\n",
       " 'tips',\n",
       " 'titanic']"
      ]
     },
     "execution_count": 14,
     "metadata": {},
     "output_type": "execute_result"
    }
   ],
   "source": [
    "sns.get_dataset_names()"
   ]
  },
  {
   "cell_type": "code",
   "execution_count": null,
   "id": "332bdaed",
   "metadata": {},
   "outputs": [],
   "source": []
  },
  {
   "cell_type": "code",
   "execution_count": 3,
   "id": "c7041a41",
   "metadata": {
    "ExecuteTime": {
     "end_time": "2022-06-29T19:31:22.791785Z",
     "start_time": "2022-06-29T19:31:22.657773Z"
    }
   },
   "outputs": [],
   "source": [
    "tips = sns.load_dataset(\"tips\")"
   ]
  },
  {
   "cell_type": "code",
   "execution_count": 4,
   "id": "891a41c8",
   "metadata": {
    "ExecuteTime": {
     "end_time": "2022-06-29T19:31:35.017293Z",
     "start_time": "2022-06-29T19:31:34.987082Z"
    },
    "scrolled": true
   },
   "outputs": [
    {
     "data": {
      "text/html": [
       "<div>\n",
       "<style scoped>\n",
       "    .dataframe tbody tr th:only-of-type {\n",
       "        vertical-align: middle;\n",
       "    }\n",
       "\n",
       "    .dataframe tbody tr th {\n",
       "        vertical-align: top;\n",
       "    }\n",
       "\n",
       "    .dataframe thead th {\n",
       "        text-align: right;\n",
       "    }\n",
       "</style>\n",
       "<table border=\"1\" class=\"dataframe\">\n",
       "  <thead>\n",
       "    <tr style=\"text-align: right;\">\n",
       "      <th></th>\n",
       "      <th>total_bill</th>\n",
       "      <th>tip</th>\n",
       "      <th>sex</th>\n",
       "      <th>smoker</th>\n",
       "      <th>day</th>\n",
       "      <th>time</th>\n",
       "      <th>size</th>\n",
       "    </tr>\n",
       "  </thead>\n",
       "  <tbody>\n",
       "    <tr>\n",
       "      <th>0</th>\n",
       "      <td>16.99</td>\n",
       "      <td>1.01</td>\n",
       "      <td>Female</td>\n",
       "      <td>No</td>\n",
       "      <td>Sun</td>\n",
       "      <td>Dinner</td>\n",
       "      <td>2</td>\n",
       "    </tr>\n",
       "    <tr>\n",
       "      <th>1</th>\n",
       "      <td>10.34</td>\n",
       "      <td>1.66</td>\n",
       "      <td>Male</td>\n",
       "      <td>No</td>\n",
       "      <td>Sun</td>\n",
       "      <td>Dinner</td>\n",
       "      <td>3</td>\n",
       "    </tr>\n",
       "    <tr>\n",
       "      <th>2</th>\n",
       "      <td>21.01</td>\n",
       "      <td>3.50</td>\n",
       "      <td>Male</td>\n",
       "      <td>No</td>\n",
       "      <td>Sun</td>\n",
       "      <td>Dinner</td>\n",
       "      <td>3</td>\n",
       "    </tr>\n",
       "    <tr>\n",
       "      <th>3</th>\n",
       "      <td>23.68</td>\n",
       "      <td>3.31</td>\n",
       "      <td>Male</td>\n",
       "      <td>No</td>\n",
       "      <td>Sun</td>\n",
       "      <td>Dinner</td>\n",
       "      <td>2</td>\n",
       "    </tr>\n",
       "    <tr>\n",
       "      <th>4</th>\n",
       "      <td>24.59</td>\n",
       "      <td>3.61</td>\n",
       "      <td>Female</td>\n",
       "      <td>No</td>\n",
       "      <td>Sun</td>\n",
       "      <td>Dinner</td>\n",
       "      <td>4</td>\n",
       "    </tr>\n",
       "  </tbody>\n",
       "</table>\n",
       "</div>"
      ],
      "text/plain": [
       "   total_bill   tip     sex smoker  day    time  size\n",
       "0       16.99  1.01  Female     No  Sun  Dinner     2\n",
       "1       10.34  1.66    Male     No  Sun  Dinner     3\n",
       "2       21.01  3.50    Male     No  Sun  Dinner     3\n",
       "3       23.68  3.31    Male     No  Sun  Dinner     2\n",
       "4       24.59  3.61  Female     No  Sun  Dinner     4"
      ]
     },
     "execution_count": 4,
     "metadata": {},
     "output_type": "execute_result"
    }
   ],
   "source": [
    "tips.head()"
   ]
  },
  {
   "cell_type": "code",
   "execution_count": 6,
   "id": "409847b8",
   "metadata": {
    "ExecuteTime": {
     "end_time": "2022-06-29T19:32:43.868750Z",
     "start_time": "2022-06-29T19:32:43.836246Z"
    }
   },
   "outputs": [
    {
     "name": "stdout",
     "output_type": "stream",
     "text": [
      "<class 'pandas.core.frame.DataFrame'>\n",
      "RangeIndex: 244 entries, 0 to 243\n",
      "Data columns (total 7 columns):\n",
      " #   Column      Non-Null Count  Dtype   \n",
      "---  ------      --------------  -----   \n",
      " 0   total_bill  244 non-null    float64 \n",
      " 1   tip         244 non-null    float64 \n",
      " 2   sex         244 non-null    category\n",
      " 3   smoker      244 non-null    category\n",
      " 4   day         244 non-null    category\n",
      " 5   time        244 non-null    category\n",
      " 6   size        244 non-null    int64   \n",
      "dtypes: category(4), float64(2), int64(1)\n",
      "memory usage: 7.4 KB\n"
     ]
    }
   ],
   "source": [
    "tips.info()"
   ]
  },
  {
   "cell_type": "code",
   "execution_count": 5,
   "id": "955f0f53",
   "metadata": {
    "ExecuteTime": {
     "end_time": "2022-06-29T19:32:24.180552Z",
     "start_time": "2022-06-29T19:32:24.117244Z"
    }
   },
   "outputs": [
    {
     "data": {
      "text/html": [
       "<div>\n",
       "<style scoped>\n",
       "    .dataframe tbody tr th:only-of-type {\n",
       "        vertical-align: middle;\n",
       "    }\n",
       "\n",
       "    .dataframe tbody tr th {\n",
       "        vertical-align: top;\n",
       "    }\n",
       "\n",
       "    .dataframe thead th {\n",
       "        text-align: right;\n",
       "    }\n",
       "</style>\n",
       "<table border=\"1\" class=\"dataframe\">\n",
       "  <thead>\n",
       "    <tr style=\"text-align: right;\">\n",
       "      <th></th>\n",
       "      <th>total_bill</th>\n",
       "      <th>tip</th>\n",
       "      <th>size</th>\n",
       "    </tr>\n",
       "  </thead>\n",
       "  <tbody>\n",
       "    <tr>\n",
       "      <th>count</th>\n",
       "      <td>244.000000</td>\n",
       "      <td>244.000000</td>\n",
       "      <td>244.000000</td>\n",
       "    </tr>\n",
       "    <tr>\n",
       "      <th>mean</th>\n",
       "      <td>19.785943</td>\n",
       "      <td>2.998279</td>\n",
       "      <td>2.569672</td>\n",
       "    </tr>\n",
       "    <tr>\n",
       "      <th>std</th>\n",
       "      <td>8.902412</td>\n",
       "      <td>1.383638</td>\n",
       "      <td>0.951100</td>\n",
       "    </tr>\n",
       "    <tr>\n",
       "      <th>min</th>\n",
       "      <td>3.070000</td>\n",
       "      <td>1.000000</td>\n",
       "      <td>1.000000</td>\n",
       "    </tr>\n",
       "    <tr>\n",
       "      <th>25%</th>\n",
       "      <td>13.347500</td>\n",
       "      <td>2.000000</td>\n",
       "      <td>2.000000</td>\n",
       "    </tr>\n",
       "    <tr>\n",
       "      <th>50%</th>\n",
       "      <td>17.795000</td>\n",
       "      <td>2.900000</td>\n",
       "      <td>2.000000</td>\n",
       "    </tr>\n",
       "    <tr>\n",
       "      <th>75%</th>\n",
       "      <td>24.127500</td>\n",
       "      <td>3.562500</td>\n",
       "      <td>3.000000</td>\n",
       "    </tr>\n",
       "    <tr>\n",
       "      <th>max</th>\n",
       "      <td>50.810000</td>\n",
       "      <td>10.000000</td>\n",
       "      <td>6.000000</td>\n",
       "    </tr>\n",
       "  </tbody>\n",
       "</table>\n",
       "</div>"
      ],
      "text/plain": [
       "       total_bill         tip        size\n",
       "count  244.000000  244.000000  244.000000\n",
       "mean    19.785943    2.998279    2.569672\n",
       "std      8.902412    1.383638    0.951100\n",
       "min      3.070000    1.000000    1.000000\n",
       "25%     13.347500    2.000000    2.000000\n",
       "50%     17.795000    2.900000    2.000000\n",
       "75%     24.127500    3.562500    3.000000\n",
       "max     50.810000   10.000000    6.000000"
      ]
     },
     "execution_count": 5,
     "metadata": {},
     "output_type": "execute_result"
    }
   ],
   "source": [
    "tips.describe()"
   ]
  },
  {
   "cell_type": "code",
   "execution_count": 7,
   "id": "78d0da02",
   "metadata": {
    "ExecuteTime": {
     "end_time": "2022-06-29T19:33:01.417347Z",
     "start_time": "2022-06-29T19:33:01.362820Z"
    }
   },
   "outputs": [
    {
     "data": {
      "text/html": [
       "<div>\n",
       "<style scoped>\n",
       "    .dataframe tbody tr th:only-of-type {\n",
       "        vertical-align: middle;\n",
       "    }\n",
       "\n",
       "    .dataframe tbody tr th {\n",
       "        vertical-align: top;\n",
       "    }\n",
       "\n",
       "    .dataframe thead th {\n",
       "        text-align: right;\n",
       "    }\n",
       "</style>\n",
       "<table border=\"1\" class=\"dataframe\">\n",
       "  <thead>\n",
       "    <tr style=\"text-align: right;\">\n",
       "      <th></th>\n",
       "      <th>count</th>\n",
       "      <th>mean</th>\n",
       "      <th>std</th>\n",
       "      <th>min</th>\n",
       "      <th>25%</th>\n",
       "      <th>50%</th>\n",
       "      <th>75%</th>\n",
       "      <th>max</th>\n",
       "    </tr>\n",
       "  </thead>\n",
       "  <tbody>\n",
       "    <tr>\n",
       "      <th>total_bill</th>\n",
       "      <td>244.0</td>\n",
       "      <td>19.785943</td>\n",
       "      <td>8.902412</td>\n",
       "      <td>3.07</td>\n",
       "      <td>13.3475</td>\n",
       "      <td>17.795</td>\n",
       "      <td>24.1275</td>\n",
       "      <td>50.81</td>\n",
       "    </tr>\n",
       "    <tr>\n",
       "      <th>tip</th>\n",
       "      <td>244.0</td>\n",
       "      <td>2.998279</td>\n",
       "      <td>1.383638</td>\n",
       "      <td>1.00</td>\n",
       "      <td>2.0000</td>\n",
       "      <td>2.900</td>\n",
       "      <td>3.5625</td>\n",
       "      <td>10.00</td>\n",
       "    </tr>\n",
       "    <tr>\n",
       "      <th>size</th>\n",
       "      <td>244.0</td>\n",
       "      <td>2.569672</td>\n",
       "      <td>0.951100</td>\n",
       "      <td>1.00</td>\n",
       "      <td>2.0000</td>\n",
       "      <td>2.000</td>\n",
       "      <td>3.0000</td>\n",
       "      <td>6.00</td>\n",
       "    </tr>\n",
       "  </tbody>\n",
       "</table>\n",
       "</div>"
      ],
      "text/plain": [
       "            count       mean       std   min      25%     50%      75%    max\n",
       "total_bill  244.0  19.785943  8.902412  3.07  13.3475  17.795  24.1275  50.81\n",
       "tip         244.0   2.998279  1.383638  1.00   2.0000   2.900   3.5625  10.00\n",
       "size        244.0   2.569672  0.951100  1.00   2.0000   2.000   3.0000   6.00"
      ]
     },
     "execution_count": 7,
     "metadata": {},
     "output_type": "execute_result"
    }
   ],
   "source": [
    "tips.describe().T"
   ]
  },
  {
   "cell_type": "code",
   "execution_count": 8,
   "id": "81645243",
   "metadata": {
    "ExecuteTime": {
     "end_time": "2022-06-29T19:34:07.804488Z",
     "start_time": "2022-06-29T19:34:07.407902Z"
    }
   },
   "outputs": [
    {
     "data": {
      "text/plain": [
       "<AxesSubplot:xlabel='day', ylabel='total_bill'>"
      ]
     },
     "execution_count": 8,
     "metadata": {},
     "output_type": "execute_result"
    },
    {
     "data": {
      "image/png": "[encoded data removed]",
      "text/plain": [
       "<Figure size 432x288 with 1 Axes>"
      ]
     },
     "metadata": {
      "needs_background": "light"
     },
     "output_type": "display_data"
    }
   ],
   "source": [
    "sns.barplot(x=\"day\", y=\"total_bill\", data=tips, ci=95)"
   ]
  },
  {
   "cell_type": "code",
   "execution_count": 12,
   "id": "01529813",
   "metadata": {
    "ExecuteTime": {
     "end_time": "2022-06-29T19:37:35.700517Z",
     "start_time": "2022-06-29T19:37:35.669111Z"
    }
   },
   "outputs": [
    {
     "data": {
      "text/html": [
       "<div>\n",
       "<style scoped>\n",
       "    .dataframe tbody tr th:only-of-type {\n",
       "        vertical-align: middle;\n",
       "    }\n",
       "\n",
       "    .dataframe tbody tr th {\n",
       "        vertical-align: top;\n",
       "    }\n",
       "\n",
       "    .dataframe thead th {\n",
       "        text-align: right;\n",
       "    }\n",
       "</style>\n",
       "<table border=\"1\" class=\"dataframe\">\n",
       "  <thead>\n",
       "    <tr style=\"text-align: right;\">\n",
       "      <th></th>\n",
       "      <th>total_bill</th>\n",
       "      <th>tip</th>\n",
       "      <th>sex</th>\n",
       "      <th>smoker</th>\n",
       "      <th>day</th>\n",
       "      <th>time</th>\n",
       "      <th>size</th>\n",
       "      <th>Sun</th>\n",
       "      <th>Sat</th>\n",
       "      <th>Thur</th>\n",
       "      <th>Fri</th>\n",
       "    </tr>\n",
       "  </thead>\n",
       "  <tbody>\n",
       "    <tr>\n",
       "      <th>90</th>\n",
       "      <td>28.97</td>\n",
       "      <td>3.00</td>\n",
       "      <td>Male</td>\n",
       "      <td>Yes</td>\n",
       "      <td>Fri</td>\n",
       "      <td>Dinner</td>\n",
       "      <td>2</td>\n",
       "      <td>Fri</td>\n",
       "      <td>Fri</td>\n",
       "      <td>Fri</td>\n",
       "      <td>Fri</td>\n",
       "    </tr>\n",
       "    <tr>\n",
       "      <th>91</th>\n",
       "      <td>22.49</td>\n",
       "      <td>3.50</td>\n",
       "      <td>Male</td>\n",
       "      <td>No</td>\n",
       "      <td>Fri</td>\n",
       "      <td>Dinner</td>\n",
       "      <td>2</td>\n",
       "      <td>Fri</td>\n",
       "      <td>Fri</td>\n",
       "      <td>Fri</td>\n",
       "      <td>Fri</td>\n",
       "    </tr>\n",
       "    <tr>\n",
       "      <th>92</th>\n",
       "      <td>5.75</td>\n",
       "      <td>1.00</td>\n",
       "      <td>Female</td>\n",
       "      <td>Yes</td>\n",
       "      <td>Fri</td>\n",
       "      <td>Dinner</td>\n",
       "      <td>2</td>\n",
       "      <td>Fri</td>\n",
       "      <td>Fri</td>\n",
       "      <td>Fri</td>\n",
       "      <td>Fri</td>\n",
       "    </tr>\n",
       "    <tr>\n",
       "      <th>93</th>\n",
       "      <td>16.32</td>\n",
       "      <td>4.30</td>\n",
       "      <td>Female</td>\n",
       "      <td>Yes</td>\n",
       "      <td>Fri</td>\n",
       "      <td>Dinner</td>\n",
       "      <td>2</td>\n",
       "      <td>Fri</td>\n",
       "      <td>Fri</td>\n",
       "      <td>Fri</td>\n",
       "      <td>Fri</td>\n",
       "    </tr>\n",
       "    <tr>\n",
       "      <th>94</th>\n",
       "      <td>22.75</td>\n",
       "      <td>3.25</td>\n",
       "      <td>Female</td>\n",
       "      <td>No</td>\n",
       "      <td>Fri</td>\n",
       "      <td>Dinner</td>\n",
       "      <td>2</td>\n",
       "      <td>Fri</td>\n",
       "      <td>Fri</td>\n",
       "      <td>Fri</td>\n",
       "      <td>Fri</td>\n",
       "    </tr>\n",
       "  </tbody>\n",
       "</table>\n",
       "</div>"
      ],
      "text/plain": [
       "    total_bill   tip     sex smoker  day    time  size  Sun  Sat Thur  Fri\n",
       "90       28.97  3.00    Male    Yes  Fri  Dinner     2  Fri  Fri  Fri  Fri\n",
       "91       22.49  3.50    Male     No  Fri  Dinner     2  Fri  Fri  Fri  Fri\n",
       "92        5.75  1.00  Female    Yes  Fri  Dinner     2  Fri  Fri  Fri  Fri\n",
       "93       16.32  4.30  Female    Yes  Fri  Dinner     2  Fri  Fri  Fri  Fri\n",
       "94       22.75  3.25  Female     No  Fri  Dinner     2  Fri  Fri  Fri  Fri"
      ]
     },
     "execution_count": 12,
     "metadata": {},
     "output_type": "execute_result"
    }
   ],
   "source": [
    "tipsFri = tips[tips[\"day\"] == \"Fri\"] \n",
    "tipsFri.head()"
   ]
  },
  {
   "cell_type": "code",
   "execution_count": 15,
   "id": "0d215fed",
   "metadata": {
    "ExecuteTime": {
     "end_time": "2022-06-29T20:13:29.554489Z",
     "start_time": "2022-06-29T20:13:29.542905Z"
    }
   },
   "outputs": [
    {
     "data": {
      "text/plain": [
       "17.151578947368417"
      ]
     },
     "execution_count": 15,
     "metadata": {},
     "output_type": "execute_result"
    }
   ],
   "source": [
    "xbar =tipsFri.total_bill.mean()\n",
    "xbar"
   ]
  },
  {
   "cell_type": "code",
   "execution_count": 16,
   "id": "b9a35da4",
   "metadata": {
    "ExecuteTime": {
     "end_time": "2022-06-29T20:13:45.684622Z",
     "start_time": "2022-06-29T20:13:45.674784Z"
    }
   },
   "outputs": [
    {
     "data": {
      "text/plain": [
       "(19, 11)"
      ]
     },
     "execution_count": 16,
     "metadata": {},
     "output_type": "execute_result"
    }
   ],
   "source": [
    "tipsFri.shape"
   ]
  },
  {
   "cell_type": "code",
   "execution_count": 17,
   "id": "a9bce51e",
   "metadata": {
    "ExecuteTime": {
     "end_time": "2022-06-29T20:15:10.822903Z",
     "start_time": "2022-06-29T20:15:10.814399Z"
    }
   },
   "outputs": [
    {
     "data": {
      "text/plain": [
       "1.904760773479416"
      ]
     },
     "execution_count": 17,
     "metadata": {},
     "output_type": "execute_result"
    }
   ],
   "source": [
    "sem = tipsFri.total_bill.sem()\n",
    "sem"
   ]
  },
  {
   "cell_type": "code",
   "execution_count": 18,
   "id": "81448e16",
   "metadata": {
    "ExecuteTime": {
     "end_time": "2022-06-29T20:15:32.207534Z",
     "start_time": "2022-06-29T20:15:32.198435Z"
    }
   },
   "outputs": [
    {
     "data": {
      "text/plain": [
       "1.904760773479416"
      ]
     },
     "execution_count": 18,
     "metadata": {},
     "output_type": "execute_result"
    }
   ],
   "source": [
    "tipsFri.total_bill.std() / np.sqrt(len(tipsFri))"
   ]
  },
  {
   "cell_type": "code",
   "execution_count": 19,
   "id": "8a91fd93",
   "metadata": {
    "ExecuteTime": {
     "end_time": "2022-06-29T20:15:47.720980Z",
     "start_time": "2022-06-29T20:15:47.711129Z"
    }
   },
   "outputs": [
    {
     "data": {
      "text/plain": [
       "3.7333311160196554"
      ]
     },
     "execution_count": 19,
     "metadata": {},
     "output_type": "execute_result"
    }
   ],
   "source": [
    "moe = 1.96 * sem\n",
    "moe"
   ]
  },
  {
   "cell_type": "code",
   "execution_count": 20,
   "id": "70311d66",
   "metadata": {
    "ExecuteTime": {
     "end_time": "2022-06-29T20:16:04.692876Z",
     "start_time": "2022-06-29T20:16:04.685569Z"
    }
   },
   "outputs": [
    {
     "data": {
      "text/plain": [
       "20.884910063388073"
      ]
     },
     "execution_count": 20,
     "metadata": {},
     "output_type": "execute_result"
    }
   ],
   "source": [
    "upper = xbar + moe\n",
    "upper"
   ]
  },
  {
   "cell_type": "code",
   "execution_count": 21,
   "id": "202b721c",
   "metadata": {
    "ExecuteTime": {
     "end_time": "2022-06-29T20:16:17.608980Z",
     "start_time": "2022-06-29T20:16:17.601271Z"
    }
   },
   "outputs": [
    {
     "data": {
      "text/plain": [
       "13.418247831348761"
      ]
     },
     "execution_count": 21,
     "metadata": {},
     "output_type": "execute_result"
    }
   ],
   "source": [
    "lower = xbar - moe\n",
    "lower"
   ]
  },
  {
   "cell_type": "code",
   "execution_count": 22,
   "id": "c77d5496",
   "metadata": {
    "ExecuteTime": {
     "end_time": "2022-06-29T20:16:31.991424Z",
     "start_time": "2022-06-29T20:16:31.980801Z"
    }
   },
   "outputs": [
    {
     "data": {
      "text/plain": [
       "(13.418316432184106, 20.88484146255273)"
      ]
     },
     "execution_count": 22,
     "metadata": {},
     "output_type": "execute_result"
    }
   ],
   "source": [
    "stats.norm.interval(0.95, loc=xbar, scale=sem)"
   ]
  },
  {
   "cell_type": "markdown",
   "id": "9edab158",
   "metadata": {},
   "source": [
    "__-with SciPy library__"
   ]
  },
  {
   "cell_type": "code",
   "execution_count": 24,
   "id": "191c9e64",
   "metadata": {
    "ExecuteTime": {
     "end_time": "2022-06-29T20:18:05.951402Z",
     "start_time": "2022-06-29T20:18:05.939489Z"
    }
   },
   "outputs": [
    {
     "data": {
      "text/plain": [
       "(13.418316432184106, 20.88484146255273)"
      ]
     },
     "execution_count": 24,
     "metadata": {},
     "output_type": "execute_result"
    }
   ],
   "source": [
    "stats.norm.interval(0.95, loc=tipsFri.total_bill.mean(), scale=tipsFri.total_bill.sem())"
   ]
  },
  {
   "cell_type": "markdown",
   "id": "0beafed8",
   "metadata": {},
   "source": [
    "__-with using \"t\" distribution__"
   ]
  },
  {
   "cell_type": "code",
   "execution_count": 25,
   "id": "a3ca2d64",
   "metadata": {
    "ExecuteTime": {
     "end_time": "2022-06-29T20:20:15.143111Z",
     "start_time": "2022-06-29T20:20:15.129754Z"
    }
   },
   "outputs": [
    {
     "data": {
      "text/plain": [
       "(13.149825056979093, 21.15333283775774)"
      ]
     },
     "execution_count": 25,
     "metadata": {},
     "output_type": "execute_result"
    }
   ],
   "source": [
    "stats.t.interval(0.95, df=len(tipsFri)-1, loc=tipsFri.total_bill.mean(), scale=tipsFri.total_bill.sem())"
   ]
  },
  {
   "cell_type": "markdown",
   "id": "10cb1c7b",
   "metadata": {},
   "source": [
    "__--Another example: For Sunday__"
   ]
  },
  {
   "cell_type": "code",
   "execution_count": 26,
   "id": "295669dd",
   "metadata": {
    "ExecuteTime": {
     "end_time": "2022-06-29T20:21:03.843437Z",
     "start_time": "2022-06-29T20:21:03.819897Z"
    }
   },
   "outputs": [
    {
     "data": {
      "text/html": [
       "<div>\n",
       "<style scoped>\n",
       "    .dataframe tbody tr th:only-of-type {\n",
       "        vertical-align: middle;\n",
       "    }\n",
       "\n",
       "    .dataframe tbody tr th {\n",
       "        vertical-align: top;\n",
       "    }\n",
       "\n",
       "    .dataframe thead th {\n",
       "        text-align: right;\n",
       "    }\n",
       "</style>\n",
       "<table border=\"1\" class=\"dataframe\">\n",
       "  <thead>\n",
       "    <tr style=\"text-align: right;\">\n",
       "      <th></th>\n",
       "      <th>total_bill</th>\n",
       "      <th>tip</th>\n",
       "      <th>sex</th>\n",
       "      <th>smoker</th>\n",
       "      <th>day</th>\n",
       "      <th>time</th>\n",
       "      <th>size</th>\n",
       "      <th>Sun</th>\n",
       "      <th>Sat</th>\n",
       "      <th>Thur</th>\n",
       "      <th>Fri</th>\n",
       "    </tr>\n",
       "  </thead>\n",
       "  <tbody>\n",
       "    <tr>\n",
       "      <th>0</th>\n",
       "      <td>16.99</td>\n",
       "      <td>1.01</td>\n",
       "      <td>Female</td>\n",
       "      <td>No</td>\n",
       "      <td>Sun</td>\n",
       "      <td>Dinner</td>\n",
       "      <td>2</td>\n",
       "      <td>Fri</td>\n",
       "      <td>Fri</td>\n",
       "      <td>Fri</td>\n",
       "      <td>Fri</td>\n",
       "    </tr>\n",
       "    <tr>\n",
       "      <th>1</th>\n",
       "      <td>10.34</td>\n",
       "      <td>1.66</td>\n",
       "      <td>Male</td>\n",
       "      <td>No</td>\n",
       "      <td>Sun</td>\n",
       "      <td>Dinner</td>\n",
       "      <td>3</td>\n",
       "      <td>Fri</td>\n",
       "      <td>Fri</td>\n",
       "      <td>Fri</td>\n",
       "      <td>Fri</td>\n",
       "    </tr>\n",
       "    <tr>\n",
       "      <th>2</th>\n",
       "      <td>21.01</td>\n",
       "      <td>3.50</td>\n",
       "      <td>Male</td>\n",
       "      <td>No</td>\n",
       "      <td>Sun</td>\n",
       "      <td>Dinner</td>\n",
       "      <td>3</td>\n",
       "      <td>Fri</td>\n",
       "      <td>Fri</td>\n",
       "      <td>Fri</td>\n",
       "      <td>Fri</td>\n",
       "    </tr>\n",
       "    <tr>\n",
       "      <th>3</th>\n",
       "      <td>23.68</td>\n",
       "      <td>3.31</td>\n",
       "      <td>Male</td>\n",
       "      <td>No</td>\n",
       "      <td>Sun</td>\n",
       "      <td>Dinner</td>\n",
       "      <td>2</td>\n",
       "      <td>Fri</td>\n",
       "      <td>Fri</td>\n",
       "      <td>Fri</td>\n",
       "      <td>Fri</td>\n",
       "    </tr>\n",
       "    <tr>\n",
       "      <th>4</th>\n",
       "      <td>24.59</td>\n",
       "      <td>3.61</td>\n",
       "      <td>Female</td>\n",
       "      <td>No</td>\n",
       "      <td>Sun</td>\n",
       "      <td>Dinner</td>\n",
       "      <td>4</td>\n",
       "      <td>Fri</td>\n",
       "      <td>Fri</td>\n",
       "      <td>Fri</td>\n",
       "      <td>Fri</td>\n",
       "    </tr>\n",
       "  </tbody>\n",
       "</table>\n",
       "</div>"
      ],
      "text/plain": [
       "   total_bill   tip     sex smoker  day    time  size  Sun  Sat Thur  Fri\n",
       "0       16.99  1.01  Female     No  Sun  Dinner     2  Fri  Fri  Fri  Fri\n",
       "1       10.34  1.66    Male     No  Sun  Dinner     3  Fri  Fri  Fri  Fri\n",
       "2       21.01  3.50    Male     No  Sun  Dinner     3  Fri  Fri  Fri  Fri\n",
       "3       23.68  3.31    Male     No  Sun  Dinner     2  Fri  Fri  Fri  Fri\n",
       "4       24.59  3.61  Female     No  Sun  Dinner     4  Fri  Fri  Fri  Fri"
      ]
     },
     "execution_count": 26,
     "metadata": {},
     "output_type": "execute_result"
    }
   ],
   "source": [
    "tipsSun = tips[tips[\"day\"] == \"Sun\"]\n",
    "tipsSun.head()"
   ]
  },
  {
   "cell_type": "code",
   "execution_count": 27,
   "id": "913175bd",
   "metadata": {
    "ExecuteTime": {
     "end_time": "2022-06-29T20:21:16.078312Z",
     "start_time": "2022-06-29T20:21:16.069533Z"
    }
   },
   "outputs": [
    {
     "data": {
      "text/plain": [
       "76"
      ]
     },
     "execution_count": 27,
     "metadata": {},
     "output_type": "execute_result"
    }
   ],
   "source": [
    "len(tipsSun)"
   ]
  },
  {
   "cell_type": "code",
   "execution_count": 28,
   "id": "60d12d20",
   "metadata": {
    "ExecuteTime": {
     "end_time": "2022-06-29T20:21:30.099216Z",
     "start_time": "2022-06-29T20:21:30.087729Z"
    }
   },
   "outputs": [
    {
     "data": {
      "text/plain": [
       "(19.391773706521036, 23.42822629347897)"
      ]
     },
     "execution_count": 28,
     "metadata": {},
     "output_type": "execute_result"
    }
   ],
   "source": [
    "stats.t.interval(0.95, df=len(tipsSun)-1, loc=tipsSun.total_bill.mean(), scale=tipsSun.total_bill.sem())"
   ]
  },
  {
   "cell_type": "markdown",
   "id": "1174d0a8",
   "metadata": {},
   "source": [
    "__--find moe__"
   ]
  },
  {
   "cell_type": "code",
   "execution_count": 29,
   "id": "0155f64e",
   "metadata": {
    "ExecuteTime": {
     "end_time": "2022-06-29T20:22:48.675127Z",
     "start_time": "2022-06-29T20:22:48.666557Z"
    }
   },
   "outputs": [
    {
     "data": {
      "text/plain": [
       "21.410000000000004"
      ]
     },
     "execution_count": 29,
     "metadata": {},
     "output_type": "execute_result"
    }
   ],
   "source": [
    "xbar = tipsSun.total_bill.mean()\n",
    "xbar"
   ]
  },
  {
   "cell_type": "code",
   "execution_count": 30,
   "id": "24ab4208",
   "metadata": {
    "ExecuteTime": {
     "end_time": "2022-06-29T20:23:01.650952Z",
     "start_time": "2022-06-29T20:23:01.640744Z"
    }
   },
   "outputs": [
    {
     "data": {
      "text/plain": [
       "8.832121828869889"
      ]
     },
     "execution_count": 30,
     "metadata": {},
     "output_type": "execute_result"
    }
   ],
   "source": [
    "std = tipsSun.total_bill.std()\n",
    "std"
   ]
  },
  {
   "cell_type": "code",
   "execution_count": 31,
   "id": "4ef5c6d3",
   "metadata": {
    "ExecuteTime": {
     "end_time": "2022-06-29T20:23:15.191859Z",
     "start_time": "2022-06-29T20:23:15.182272Z"
    }
   },
   "outputs": [
    {
     "data": {
      "text/plain": [
       "1.0131138555021968"
      ]
     },
     "execution_count": 31,
     "metadata": {},
     "output_type": "execute_result"
    }
   ],
   "source": [
    "sem = std / np.sqrt(len(tipsSun))\n",
    "sem"
   ]
  },
  {
   "cell_type": "code",
   "execution_count": 36,
   "id": "d70079d2",
   "metadata": {
    "ExecuteTime": {
     "end_time": "2022-06-29T20:25:40.248339Z",
     "start_time": "2022-06-29T20:25:40.236424Z"
    }
   },
   "outputs": [
    {
     "data": {
      "text/plain": [
       "1.959963984540054"
      ]
     },
     "execution_count": 36,
     "metadata": {},
     "output_type": "execute_result"
    }
   ],
   "source": [
    "stats.norm.ppf(0.975) # z score for %95--> z/2"
   ]
  },
  {
   "cell_type": "code",
   "execution_count": null,
   "id": "4a7f557e",
   "metadata": {},
   "outputs": [],
   "source": []
  },
  {
   "cell_type": "code",
   "execution_count": 32,
   "id": "23f22c74",
   "metadata": {
    "ExecuteTime": {
     "end_time": "2022-06-29T20:23:31.236403Z",
     "start_time": "2022-06-29T20:23:31.222927Z"
    }
   },
   "outputs": [
    {
     "data": {
      "text/plain": [
       "1.9857031567843058"
      ]
     },
     "execution_count": 32,
     "metadata": {},
     "output_type": "execute_result"
    }
   ],
   "source": [
    "moe = 1.96 * sem\n",
    "moe"
   ]
  },
  {
   "cell_type": "markdown",
   "id": "552e2384",
   "metadata": {},
   "source": [
    "__-moe for t distribution__"
   ]
  },
  {
   "cell_type": "code",
   "execution_count": 33,
   "id": "a0edd076",
   "metadata": {
    "ExecuteTime": {
     "end_time": "2022-06-29T20:24:32.123219Z",
     "start_time": "2022-06-29T20:24:32.108681Z"
    }
   },
   "outputs": [
    {
     "data": {
      "text/plain": [
       "1.9921021536898653"
      ]
     },
     "execution_count": 33,
     "metadata": {},
     "output_type": "execute_result"
    }
   ],
   "source": [
    "stats.t.ppf(0.975, 75)"
   ]
  },
  {
   "cell_type": "code",
   "execution_count": 34,
   "id": "45a77422",
   "metadata": {
    "ExecuteTime": {
     "end_time": "2022-06-29T20:24:47.393894Z",
     "start_time": "2022-06-29T20:24:47.384636Z"
    }
   },
   "outputs": [
    {
     "data": {
      "text/plain": [
       "-1.9921021536898658"
      ]
     },
     "execution_count": 34,
     "metadata": {},
     "output_type": "execute_result"
    }
   ],
   "source": [
    "stats.t.ppf(0.025, 75)"
   ]
  },
  {
   "cell_type": "code",
   "execution_count": 35,
   "id": "7e7a5c31",
   "metadata": {
    "ExecuteTime": {
     "end_time": "2022-06-29T20:25:08.927642Z",
     "start_time": "2022-06-29T20:25:08.917782Z"
    }
   },
   "outputs": [
    {
     "data": {
      "text/plain": [
       "2.018122800160376"
      ]
     },
     "execution_count": 35,
     "metadata": {},
     "output_type": "execute_result"
    }
   ],
   "source": [
    "moe = 1.992 * sem\n",
    "moe"
   ]
  },
  {
   "cell_type": "code",
   "execution_count": null,
   "id": "71f2324a",
   "metadata": {},
   "outputs": [],
   "source": []
  },
  {
   "cell_type": "code",
   "execution_count": null,
   "id": "112051aa",
   "metadata": {},
   "outputs": [],
   "source": []
  },
  {
   "cell_type": "code",
   "execution_count": null,
   "id": "7855f2af",
   "metadata": {},
   "outputs": [],
   "source": []
  },
  {
   "cell_type": "code",
   "execution_count": null,
   "id": "833f044e",
   "metadata": {},
   "outputs": [],
   "source": []
  },
  {
   "cell_type": "code",
   "execution_count": null,
   "id": "1b25168f",
   "metadata": {},
   "outputs": [],
   "source": []
  },
  {
   "cell_type": "code",
   "execution_count": null,
   "id": "41fb3353",
   "metadata": {},
   "outputs": [],
   "source": []
  },
  {
   "cell_type": "code",
   "execution_count": null,
   "id": "4a53ac0f",
   "metadata": {},
   "outputs": [],
   "source": []
  }
 ],
 "metadata": {
  "kernelspec": {
   "display_name": "Python 3 (ipykernel)",
   "language": "python",
   "name": "python3"
  },
  "language_info": {
   "codemirror_mode": {
    "name": "ipython",
    "version": 3
   },
   "file_extension": ".py",
   "mimetype": "text/x-python",
   "name": "python",
   "nbconvert_exporter": "python",
   "pygments_lexer": "ipython3",
   "version": "3.9.7"
  }
 },
 "nbformat": 4,
 "nbformat_minor": 5
}
