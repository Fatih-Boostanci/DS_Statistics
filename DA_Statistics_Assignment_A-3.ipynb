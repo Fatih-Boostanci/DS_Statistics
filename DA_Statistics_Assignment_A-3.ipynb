{
 "cells": [
  {
   "cell_type": "markdown",
   "id": "24261e06",
   "metadata": {},
   "source": [
    "# Statistics Assignment-3 \n",
    "# (Hypothesis Tests)"
   ]
  },
  {
   "cell_type": "code",
   "execution_count": 2,
   "id": "e32de243",
   "metadata": {
    "ExecuteTime": {
     "end_time": "2022-07-05T12:54:51.168253Z",
     "start_time": "2022-07-05T12:54:44.364922Z"
    }
   },
   "outputs": [],
   "source": [
    "import numpy as np\n",
    "from scipy import stats\n",
    "import matplotlib.pyplot as plt\n",
    "import seaborn as sns\n",
    "import pandas as pd "
   ]
  },
  {
   "cell_type": "code",
   "execution_count": null,
   "id": "b7db1311",
   "metadata": {},
   "outputs": [],
   "source": []
  },
  {
   "cell_type": "code",
   "execution_count": null,
   "id": "0690dc54",
   "metadata": {},
   "outputs": [],
   "source": []
  },
  {
   "cell_type": "markdown",
   "id": "17137b74",
   "metadata": {},
   "source": [
    "## Exercise-1"
   ]
  },
  {
   "cell_type": "markdown",
   "id": "426bc906",
   "metadata": {},
   "source": [
    "__- The hourly wages in a particular industry are normally distributed with mean 13.20 USD and standard deviation 2.50 USD__<br>\n",
    "__- A company in this industry employs 40 workers, paying them an average of 12.20 USD per hour.__<br><br> \n",
    "__- Can this company be accused of paying substandard wages? Use an α = .01 level test. (Wackerly, Ex.10.18)__<br><br>\n",
    "\n",
    "CHECK: statistic: -2.5298221281347035, pvalue= 0.005706018193000826\n",
    "\n"
   ]
  },
  {
   "cell_type": "markdown",
   "id": "97e4f8a8",
   "metadata": {},
   "source": [
    "sigma_p = 2.5 \n",
    "xbar_p = 13.2 \n",
    "xbar_s = 12.2\n",
    "n = 40\n",
    "alpha = 0.01\n",
    "\n",
    "  \n",
    " \n",
    "__- We know the population std, so we'll use \"z\" statistic test.__"
   ]
  },
  {
   "cell_type": "markdown",
   "id": "abd38f9a",
   "metadata": {},
   "source": [
    "### 1. Assumptions"
   ]
  },
  {
   "cell_type": "markdown",
   "id": "a044b5d7",
   "metadata": {},
   "source": [
    "__- Check the normality__<br><br>\n",
    "\n",
    "__* The hourly wages are normally distributed__"
   ]
  },
  {
   "cell_type": "markdown",
   "id": "60fc0483",
   "metadata": {},
   "source": [
    "### 2. Null and Alternative Hypothesis"
   ]
  },
  {
   "cell_type": "markdown",
   "id": "59cb1139",
   "metadata": {},
   "source": [
    "__H0: µ = 13.2 (\"the population mean is equal to 13.2 \")__\n",
    "\n",
    "__H1: µ < 13.2 (\"the population mean is less than 13.2\")__"
   ]
  },
  {
   "cell_type": "markdown",
   "id": "0e70a958",
   "metadata": {},
   "source": [
    "### 3. Test Statistics"
   ]
  },
  {
   "cell_type": "markdown",
   "id": "1e2e5080",
   "metadata": {},
   "source": [
    "__- We know the population std, so we'll use \"z\" statistic test.__"
   ]
  },
  {
   "attachments": {
    "E4F379B0-E347-45C2-AC6E-CE72BCD07893_4_5005_c.jpeg": {
     "image/jpeg": "[encoded data removed]"
    }
   },
   "cell_type": "markdown",
   "id": "d133758f",
   "metadata": {},
   "source": [
    "![E4F379B0-E347-45C2-AC6E-CE72BCD07893_4_5005_c.jpeg](attachment:E4F379B0-E347-45C2-AC6E-CE72BCD07893_4_5005_c.jpeg)"
   ]
  },
  {
   "cell_type": "code",
   "execution_count": 4,
   "id": "f92af2f8",
   "metadata": {
    "ExecuteTime": {
     "end_time": "2022-07-04T06:00:14.097989Z",
     "start_time": "2022-07-04T06:00:14.089577Z"
    }
   },
   "outputs": [
    {
     "data": {
      "text/plain": [
       "-2.5298221281347035"
      ]
     },
     "execution_count": 4,
     "metadata": {},
     "output_type": "execute_result"
    }
   ],
   "source": [
    "wageTest_z = (12.2 - 13.2) / (2.5 / np.sqrt(40))\n",
    "wageTest_z"
   ]
  },
  {
   "cell_type": "markdown",
   "id": "957b15c1",
   "metadata": {},
   "source": [
    "### 4. P-value"
   ]
  },
  {
   "cell_type": "code",
   "execution_count": 8,
   "id": "832da075",
   "metadata": {
    "ExecuteTime": {
     "end_time": "2022-07-04T06:11:49.969404Z",
     "start_time": "2022-07-04T06:11:49.964749Z"
    }
   },
   "outputs": [],
   "source": [
    "# z score is 2.53 --> find p value from the z-table\n",
    "p_value = 0.005706018193000826"
   ]
  },
  {
   "cell_type": "markdown",
   "id": "1f3566ad",
   "metadata": {},
   "source": [
    "### 2nd option to find P value"
   ]
  },
  {
   "cell_type": "code",
   "execution_count": 6,
   "id": "65520a7a",
   "metadata": {
    "ExecuteTime": {
     "end_time": "2022-07-04T06:07:44.041747Z",
     "start_time": "2022-07-04T06:07:44.017137Z"
    }
   },
   "outputs": [
    {
     "data": {
      "text/plain": [
       "0.005706018193000826"
      ]
     },
     "execution_count": 6,
     "metadata": {},
     "output_type": "execute_result"
    }
   ],
   "source": [
    "pValue = stats.norm.cdf(wageTest_z)\n",
    "pValue"
   ]
  },
  {
   "cell_type": "markdown",
   "id": "818ea116",
   "metadata": {},
   "source": [
    "### 5. Conclusion"
   ]
  },
  {
   "cell_type": "markdown",
   "id": "eb2785a7",
   "metadata": {},
   "source": [
    "__since p_value < alpha (0.0057 < 0.01), null hypothesis will be rejected__"
   ]
  },
  {
   "cell_type": "code",
   "execution_count": 9,
   "id": "df54a152",
   "metadata": {
    "ExecuteTime": {
     "end_time": "2022-07-04T06:11:53.719221Z",
     "start_time": "2022-07-04T06:11:53.710850Z"
    }
   },
   "outputs": [
    {
     "name": "stdout",
     "output_type": "stream",
     "text": [
      "Reject the null hypothesis\n"
     ]
    }
   ],
   "source": [
    "alpha = 0.01\n",
    "\n",
    "if p_value < alpha:\n",
    "    print(\"Reject the null hypothesis\")\n",
    "else:\n",
    "    print(\"fail to reject the null hypothesis\")"
   ]
  },
  {
   "cell_type": "markdown",
   "id": "4b45d20c",
   "metadata": {},
   "source": [
    "__- So, it can be inferred from this analysis that this company may be paying substandart wages to its employees.__"
   ]
  },
  {
   "cell_type": "code",
   "execution_count": null,
   "id": "d1d4d164",
   "metadata": {},
   "outputs": [],
   "source": []
  },
  {
   "cell_type": "markdown",
   "id": "ea998600",
   "metadata": {},
   "source": [
    "## Exercise-2"
   ]
  },
  {
   "cell_type": "markdown",
   "id": "15a1c3d3",
   "metadata": {},
   "source": [
    "__- Shear strength measurements derived from unconfined compression tests for two types of soils gave the results shown in the following document (measurements in tons per square foot).__<br><br> \n",
    "__- Do the soils appear to differ with respect to average shear strength, at the 1% significance level?__<br><br>\n",
    "\n",
    "Results for two type of soils<br><br>\n",
    "\n",
    "CHECK: statistic: 5.1681473319343345, pvalue= 2.593228732352821e-06"
   ]
  },
  {
   "cell_type": "code",
   "execution_count": 4,
   "id": "264b9848",
   "metadata": {
    "ExecuteTime": {
     "end_time": "2022-07-04T20:38:56.772604Z",
     "start_time": "2022-07-04T20:38:56.628200Z"
    }
   },
   "outputs": [
    {
     "data": {
      "text/html": [
       "<div>\n",
       "<style scoped>\n",
       "    .dataframe tbody tr th:only-of-type {\n",
       "        vertical-align: middle;\n",
       "    }\n",
       "\n",
       "    .dataframe tbody tr th {\n",
       "        vertical-align: top;\n",
       "    }\n",
       "\n",
       "    .dataframe thead th {\n",
       "        text-align: right;\n",
       "    }\n",
       "</style>\n",
       "<table border=\"1\" class=\"dataframe\">\n",
       "  <thead>\n",
       "    <tr style=\"text-align: right;\">\n",
       "      <th></th>\n",
       "      <th>Soil1</th>\n",
       "      <th>Soil2</th>\n",
       "    </tr>\n",
       "  </thead>\n",
       "  <tbody>\n",
       "    <tr>\n",
       "      <th>0</th>\n",
       "      <td>1.442</td>\n",
       "      <td>1.364</td>\n",
       "    </tr>\n",
       "    <tr>\n",
       "      <th>1</th>\n",
       "      <td>1.943</td>\n",
       "      <td>1.878</td>\n",
       "    </tr>\n",
       "    <tr>\n",
       "      <th>2</th>\n",
       "      <td>1.110</td>\n",
       "      <td>1.337</td>\n",
       "    </tr>\n",
       "    <tr>\n",
       "      <th>3</th>\n",
       "      <td>1.912</td>\n",
       "      <td>1.828</td>\n",
       "    </tr>\n",
       "    <tr>\n",
       "      <th>4</th>\n",
       "      <td>1.553</td>\n",
       "      <td>1.371</td>\n",
       "    </tr>\n",
       "  </tbody>\n",
       "</table>\n",
       "</div>"
      ],
      "text/plain": [
       "   Soil1  Soil2\n",
       "0  1.442  1.364\n",
       "1  1.943  1.878\n",
       "2  1.110  1.337\n",
       "3  1.912  1.828\n",
       "4  1.553  1.371"
      ]
     },
     "execution_count": 4,
     "metadata": {},
     "output_type": "execute_result"
    }
   ],
   "source": [
    "# Let's import the data\n",
    "df = pd.read_csv(\"soil - Sheet1.csv\")\n",
    "df.head()\n"
   ]
  },
  {
   "cell_type": "code",
   "execution_count": null,
   "id": "d431d2b3",
   "metadata": {},
   "outputs": [],
   "source": []
  },
  {
   "cell_type": "code",
   "execution_count": 11,
   "id": "e629bf5c",
   "metadata": {
    "ExecuteTime": {
     "end_time": "2022-07-04T06:24:47.744075Z",
     "start_time": "2022-07-04T06:24:47.732577Z"
    }
   },
   "outputs": [
    {
     "data": {
      "text/plain": [
       "1.6918"
      ]
     },
     "execution_count": 11,
     "metadata": {},
     "output_type": "execute_result"
    }
   ],
   "source": [
    "df[\"Soil1\"].mean()"
   ]
  },
  {
   "cell_type": "code",
   "execution_count": 13,
   "id": "2bf923f2",
   "metadata": {
    "ExecuteTime": {
     "end_time": "2022-07-04T06:25:39.073797Z",
     "start_time": "2022-07-04T06:25:39.064112Z"
    }
   },
   "outputs": [
    {
     "data": {
      "text/plain": [
       "1.4171142857142855"
      ]
     },
     "execution_count": 13,
     "metadata": {},
     "output_type": "execute_result"
    }
   ],
   "source": [
    "df[\"Soil2\"].mean()"
   ]
  },
  {
   "cell_type": "code",
   "execution_count": 12,
   "id": "69023395",
   "metadata": {
    "ExecuteTime": {
     "end_time": "2022-07-04T06:25:06.850945Z",
     "start_time": "2022-07-04T06:25:06.841224Z"
    }
   },
   "outputs": [
    {
     "data": {
      "text/plain": [
       "0.04280878620689653"
      ]
     },
     "execution_count": 12,
     "metadata": {},
     "output_type": "execute_result"
    }
   ],
   "source": [
    "soil1_var = df[\"Soil1\"].std() ** 2 \n",
    "soil1_var"
   ]
  },
  {
   "cell_type": "code",
   "execution_count": 14,
   "id": "3c8db06f",
   "metadata": {
    "ExecuteTime": {
     "end_time": "2022-07-04T06:25:51.909864Z",
     "start_time": "2022-07-04T06:25:51.901267Z"
    }
   },
   "outputs": [
    {
     "data": {
      "text/plain": [
       "0.048041751260504195"
      ]
     },
     "execution_count": 14,
     "metadata": {},
     "output_type": "execute_result"
    }
   ],
   "source": [
    "soil2_var = df[\"Soil2\"].std() ** 2 \n",
    "soil2_var\n",
    "\n",
    "# We can assume the variances are equal"
   ]
  },
  {
   "cell_type": "markdown",
   "id": "948a43b4",
   "metadata": {},
   "source": [
    "### 2. Null and Alternative Hypothesis"
   ]
  },
  {
   "cell_type": "markdown",
   "id": "2234cf41",
   "metadata": {},
   "source": [
    "__H0: µSoil1 = µSoil2 (\"the two soils mean are equal\")__<br><br>\n",
    "\n",
    "__H1: µSoil1 ≠ µSoil2 (\"the two soils mean are not equal\")__"
   ]
  },
  {
   "cell_type": "markdown",
   "id": "3c972b34",
   "metadata": {},
   "source": [
    "### 3. Test Statistics"
   ]
  },
  {
   "cell_type": "markdown",
   "id": "5b610696",
   "metadata": {},
   "source": [
    "__- We don't know the population std, so we'll use \"t\" statistic test.__"
   ]
  },
  {
   "cell_type": "code",
   "execution_count": 15,
   "id": "06eb6fb5",
   "metadata": {
    "ExecuteTime": {
     "end_time": "2022-07-04T06:26:14.734454Z",
     "start_time": "2022-07-04T06:26:14.718843Z"
    }
   },
   "outputs": [
    {
     "data": {
      "text/plain": [
       "Ttest_indResult(statistic=5.1681473319343345, pvalue=2.593228732352821e-06)"
      ]
     },
     "execution_count": 15,
     "metadata": {},
     "output_type": "execute_result"
    }
   ],
   "source": [
    "soilTest = stats.ttest_ind(df[\"Soil1\"].dropna(), df[\"Soil2\"].dropna(), equal_var=True, alternative=\"two-sided\")\n",
    "soilTest"
   ]
  },
  {
   "cell_type": "markdown",
   "id": "df3bc3b6",
   "metadata": {},
   "source": [
    "### 4. P-value"
   ]
  },
  {
   "cell_type": "code",
   "execution_count": 17,
   "id": "98380d02",
   "metadata": {
    "ExecuteTime": {
     "end_time": "2022-07-04T06:36:22.311482Z",
     "start_time": "2022-07-04T06:36:22.306056Z"
    }
   },
   "outputs": [],
   "source": [
    "p_value=2.593228732352821e-06"
   ]
  },
  {
   "cell_type": "markdown",
   "id": "4c5ce649",
   "metadata": {},
   "source": [
    "### 5. Conclusion"
   ]
  },
  {
   "cell_type": "markdown",
   "id": "594bd818",
   "metadata": {},
   "source": [
    "__since p_value < alpha, null hypothesis will be rejected__"
   ]
  },
  {
   "cell_type": "code",
   "execution_count": 18,
   "id": "0f0500bd",
   "metadata": {
    "ExecuteTime": {
     "end_time": "2022-07-04T06:36:25.424912Z",
     "start_time": "2022-07-04T06:36:25.417680Z"
    }
   },
   "outputs": [
    {
     "name": "stdout",
     "output_type": "stream",
     "text": [
      "Reject the null hypothesis\n"
     ]
    }
   ],
   "source": [
    "alpha = 0.01\n",
    "\n",
    "if p_value < alpha:\n",
    "    print(\"Reject the null hypothesis\")\n",
    "else:\n",
    "    print(\"fail to reject the null hypothesis\")"
   ]
  },
  {
   "cell_type": "markdown",
   "id": "1c668cef",
   "metadata": {},
   "source": [
    "__the soils appear to differ with respect to average shear strength, at the 1% significance level__"
   ]
  },
  {
   "cell_type": "code",
   "execution_count": null,
   "id": "2936d03e",
   "metadata": {},
   "outputs": [],
   "source": []
  },
  {
   "cell_type": "markdown",
   "id": "a5f60178",
   "metadata": {},
   "source": [
    "## Exercise-3"
   ]
  },
  {
   "cell_type": "markdown",
   "id": "4a5b80b5",
   "metadata": {},
   "source": [
    "__The following dataset is based on data provided by the World Bank__<br><br>  (https://datacatalog.worldbank.org/dataset/education-statistics).<br>  \n",
    "World Bank Edstats.  2015 PISA Test Dataset"
   ]
  },
  {
   "cell_type": "markdown",
   "id": "d9c608bf",
   "metadata": {},
   "source": [
    "__1. Get descriptive statistics (the central tendency, dispersion and shape of a dataset’s distribution) for each continent group (AS, EU, AF, NA, SA, OC).__<br>\n",
    "__2. Determine whether there is any difference (on the average) for the math scores among European (EU) and Asian (AS) countries (assume normality and equal variances). Draw side-by-side box plots.__<br><br>\n",
    "CHECK: statistic=0.870055317967983, pvalue=0.38826888111307345"
   ]
  },
  {
   "cell_type": "code",
   "execution_count": 17,
   "id": "13f6882e",
   "metadata": {
    "ExecuteTime": {
     "end_time": "2022-07-05T13:19:14.572608Z",
     "start_time": "2022-07-05T13:19:14.416559Z"
    }
   },
   "outputs": [
    {
     "data": {
      "text/html": [
       "<div>\n",
       "<style scoped>\n",
       "    .dataframe tbody tr th:only-of-type {\n",
       "        vertical-align: middle;\n",
       "    }\n",
       "\n",
       "    .dataframe tbody tr th {\n",
       "        vertical-align: top;\n",
       "    }\n",
       "\n",
       "    .dataframe thead th {\n",
       "        text-align: right;\n",
       "    }\n",
       "</style>\n",
       "<table border=\"1\" class=\"dataframe\">\n",
       "  <thead>\n",
       "    <tr style=\"text-align: right;\">\n",
       "      <th></th>\n",
       "      <th>Country Code</th>\n",
       "      <th>Continent_Code</th>\n",
       "      <th>internet_users_per_100</th>\n",
       "      <th>Math</th>\n",
       "      <th>Reading</th>\n",
       "      <th>Science</th>\n",
       "    </tr>\n",
       "  </thead>\n",
       "  <tbody>\n",
       "    <tr>\n",
       "      <th>0</th>\n",
       "      <td>ALB</td>\n",
       "      <td>EU</td>\n",
       "      <td>63.252933</td>\n",
       "      <td>413.1570</td>\n",
       "      <td>405.2588</td>\n",
       "      <td>427.2250</td>\n",
       "    </tr>\n",
       "    <tr>\n",
       "      <th>1</th>\n",
       "      <td>ARE</td>\n",
       "      <td>AS</td>\n",
       "      <td>90.500000</td>\n",
       "      <td>427.4827</td>\n",
       "      <td>433.5423</td>\n",
       "      <td>436.7311</td>\n",
       "    </tr>\n",
       "    <tr>\n",
       "      <th>2</th>\n",
       "      <td>ARG</td>\n",
       "      <td>SA</td>\n",
       "      <td>68.043064</td>\n",
       "      <td>409.0333</td>\n",
       "      <td>425.3031</td>\n",
       "      <td>432.2262</td>\n",
       "    </tr>\n",
       "    <tr>\n",
       "      <th>3</th>\n",
       "      <td>AUS</td>\n",
       "      <td>OC</td>\n",
       "      <td>84.560519</td>\n",
       "      <td>493.8962</td>\n",
       "      <td>502.9006</td>\n",
       "      <td>509.9939</td>\n",
       "    </tr>\n",
       "    <tr>\n",
       "      <th>4</th>\n",
       "      <td>AUT</td>\n",
       "      <td>EU</td>\n",
       "      <td>83.940142</td>\n",
       "      <td>496.7423</td>\n",
       "      <td>484.8656</td>\n",
       "      <td>495.0375</td>\n",
       "    </tr>\n",
       "  </tbody>\n",
       "</table>\n",
       "</div>"
      ],
      "text/plain": [
       "  Country Code Continent_Code  internet_users_per_100      Math   Reading  \\\n",
       "0          ALB             EU               63.252933  413.1570  405.2588   \n",
       "1          ARE             AS               90.500000  427.4827  433.5423   \n",
       "2          ARG             SA               68.043064  409.0333  425.3031   \n",
       "3          AUS             OC               84.560519  493.8962  502.9006   \n",
       "4          AUT             EU               83.940142  496.7423  484.8656   \n",
       "\n",
       "    Science  \n",
       "0  427.2250  \n",
       "1  436.7311  \n",
       "2  432.2262  \n",
       "3  509.9939  \n",
       "4  495.0375  "
      ]
     },
     "execution_count": 17,
     "metadata": {},
     "output_type": "execute_result"
    }
   ],
   "source": [
    "df = pd.read_excel(\"2015 PISA Test.xlsx\")\n",
    "df.head()"
   ]
  },
  {
   "cell_type": "markdown",
   "id": "034fc088",
   "metadata": {},
   "source": [
    "1. Get descriptive statistics (the central tendency, dispersion and shape of a dataset’s distribution) for each continent group (AS, EU, AF, NA, SA, OC)."
   ]
  },
  {
   "cell_type": "code",
   "execution_count": 18,
   "id": "44be6d50",
   "metadata": {
    "ExecuteTime": {
     "end_time": "2022-07-05T13:19:48.258732Z",
     "start_time": "2022-07-05T13:19:48.242129Z"
    }
   },
   "outputs": [
    {
     "name": "stdout",
     "output_type": "stream",
     "text": [
      "<class 'pandas.core.frame.DataFrame'>\n",
      "RangeIndex: 70 entries, 0 to 69\n",
      "Data columns (total 6 columns):\n",
      " #   Column                  Non-Null Count  Dtype  \n",
      "---  ------                  --------------  -----  \n",
      " 0   Country Code            70 non-null     object \n",
      " 1   Continent_Code          65 non-null     object \n",
      " 2   internet_users_per_100  70 non-null     float64\n",
      " 3   Math                    70 non-null     float64\n",
      " 4   Reading                 70 non-null     float64\n",
      " 5   Science                 70 non-null     float64\n",
      "dtypes: float64(4), object(2)\n",
      "memory usage: 3.4+ KB\n"
     ]
    }
   ],
   "source": [
    "df.info()"
   ]
  },
  {
   "cell_type": "code",
   "execution_count": 19,
   "id": "e907c2b2",
   "metadata": {
    "ExecuteTime": {
     "end_time": "2022-07-05T13:19:57.003612Z",
     "start_time": "2022-07-05T13:19:56.960539Z"
    }
   },
   "outputs": [
    {
     "data": {
      "text/html": [
       "<div>\n",
       "<style scoped>\n",
       "    .dataframe tbody tr th:only-of-type {\n",
       "        vertical-align: middle;\n",
       "    }\n",
       "\n",
       "    .dataframe tbody tr th {\n",
       "        vertical-align: top;\n",
       "    }\n",
       "\n",
       "    .dataframe thead th {\n",
       "        text-align: right;\n",
       "    }\n",
       "</style>\n",
       "<table border=\"1\" class=\"dataframe\">\n",
       "  <thead>\n",
       "    <tr style=\"text-align: right;\">\n",
       "      <th></th>\n",
       "      <th>count</th>\n",
       "      <th>mean</th>\n",
       "      <th>std</th>\n",
       "      <th>min</th>\n",
       "      <th>25%</th>\n",
       "      <th>50%</th>\n",
       "      <th>75%</th>\n",
       "      <th>max</th>\n",
       "    </tr>\n",
       "  </thead>\n",
       "  <tbody>\n",
       "    <tr>\n",
       "      <th>internet_users_per_100</th>\n",
       "      <td>70.0</td>\n",
       "      <td>71.973099</td>\n",
       "      <td>16.390632</td>\n",
       "      <td>21.976068</td>\n",
       "      <td>60.899020</td>\n",
       "      <td>72.99935</td>\n",
       "      <td>85.026763</td>\n",
       "      <td>98.2000</td>\n",
       "    </tr>\n",
       "    <tr>\n",
       "      <th>Math</th>\n",
       "      <td>70.0</td>\n",
       "      <td>460.971557</td>\n",
       "      <td>53.327205</td>\n",
       "      <td>327.702000</td>\n",
       "      <td>417.416075</td>\n",
       "      <td>477.60715</td>\n",
       "      <td>500.482925</td>\n",
       "      <td>564.1897</td>\n",
       "    </tr>\n",
       "    <tr>\n",
       "      <th>Reading</th>\n",
       "      <td>70.0</td>\n",
       "      <td>460.997291</td>\n",
       "      <td>49.502679</td>\n",
       "      <td>346.549000</td>\n",
       "      <td>426.948625</td>\n",
       "      <td>480.19985</td>\n",
       "      <td>499.687475</td>\n",
       "      <td>535.1002</td>\n",
       "    </tr>\n",
       "    <tr>\n",
       "      <th>Science</th>\n",
       "      <td>70.0</td>\n",
       "      <td>465.439093</td>\n",
       "      <td>48.397254</td>\n",
       "      <td>331.638800</td>\n",
       "      <td>425.923375</td>\n",
       "      <td>475.40005</td>\n",
       "      <td>502.431250</td>\n",
       "      <td>555.5747</td>\n",
       "    </tr>\n",
       "  </tbody>\n",
       "</table>\n",
       "</div>"
      ],
      "text/plain": [
       "                        count        mean        std         min         25%  \\\n",
       "internet_users_per_100   70.0   71.973099  16.390632   21.976068   60.899020   \n",
       "Math                     70.0  460.971557  53.327205  327.702000  417.416075   \n",
       "Reading                  70.0  460.997291  49.502679  346.549000  426.948625   \n",
       "Science                  70.0  465.439093  48.397254  331.638800  425.923375   \n",
       "\n",
       "                              50%         75%       max  \n",
       "internet_users_per_100   72.99935   85.026763   98.2000  \n",
       "Math                    477.60715  500.482925  564.1897  \n",
       "Reading                 480.19985  499.687475  535.1002  \n",
       "Science                 475.40005  502.431250  555.5747  "
      ]
     },
     "execution_count": 19,
     "metadata": {},
     "output_type": "execute_result"
    }
   ],
   "source": [
    "df.describe().T"
   ]
  },
  {
   "cell_type": "markdown",
   "id": "501301eb",
   "metadata": {},
   "source": [
    "2. Determine whether there is any difference (on the average) for the math scores among European (EU) and Asian (AS) countries (assume normality and equal variances). Draw side-by-side box plots."
   ]
  },
  {
   "cell_type": "code",
   "execution_count": 25,
   "id": "77448099",
   "metadata": {
    "ExecuteTime": {
     "end_time": "2022-07-05T13:29:07.859707Z",
     "start_time": "2022-07-05T13:29:07.848730Z"
    }
   },
   "outputs": [
    {
     "data": {
      "text/plain": [
       "0     413.1570\n",
       "4     496.7423\n",
       "5     506.9844\n",
       "6     441.1899\n",
       "9     521.2506\n",
       "14    437.1443\n",
       "15    492.3254\n",
       "16    505.9713\n",
       "17    511.0876\n",
       "20    485.8432\n",
       "21    519.5291\n",
       "22    511.0769\n",
       "23    492.9204\n",
       "24    492.4785\n",
       "26    453.6299\n",
       "28    464.0401\n",
       "29    476.8309\n",
       "31    503.7220\n",
       "32    488.0332\n",
       "34    489.7287\n",
       "40    478.3834\n",
       "41    485.7706\n",
       "42    482.3051\n",
       "44    419.6635\n",
       "46    371.3114\n",
       "47    478.6448\n",
       "48    417.9341\n",
       "50    512.2528\n",
       "51    501.7298\n",
       "54    504.4693\n",
       "55    491.6270\n",
       "57    443.9543\n",
       "58    494.0600\n",
       "60    475.2301\n",
       "61    509.9196\n",
       "62    493.9181\n",
       "66    420.4540\n",
       "Name: Math, dtype: float64"
      ]
     },
     "execution_count": 25,
     "metadata": {},
     "output_type": "execute_result"
    }
   ],
   "source": [
    "df_EU = df[df[\"Continent_Code\"] == \"EU\"][\"Math\"]\n",
    "df_EU"
   ]
  },
  {
   "cell_type": "code",
   "execution_count": null,
   "id": "ccf2c487",
   "metadata": {},
   "outputs": [],
   "source": []
  },
  {
   "cell_type": "code",
   "execution_count": null,
   "id": "a93d67d7",
   "metadata": {},
   "outputs": [],
   "source": []
  },
  {
   "cell_type": "code",
   "execution_count": 26,
   "id": "09c9911a",
   "metadata": {
    "ExecuteTime": {
     "end_time": "2022-07-05T13:29:24.563918Z",
     "start_time": "2022-07-05T13:29:24.554241Z"
    }
   },
   "outputs": [
    {
     "data": {
      "text/plain": [
       "1     427.4827\n",
       "11    531.2961\n",
       "25    403.8332\n",
       "27    547.9310\n",
       "30    386.1096\n",
       "33    469.6695\n",
       "35    380.2590\n",
       "36    532.4399\n",
       "37    459.8160\n",
       "38    524.1062\n",
       "39    396.2497\n",
       "43    543.8078\n",
       "49    446.1098\n",
       "56    402.4007\n",
       "59    564.1897\n",
       "63    415.4638\n",
       "69    494.5183\n",
       "Name: Math, dtype: float64"
      ]
     },
     "execution_count": 26,
     "metadata": {},
     "output_type": "execute_result"
    }
   ],
   "source": [
    "df_AS = df[df[\"Continent_Code\"] == \"AS\"][\"Math\"]\n",
    "df_AS"
   ]
  },
  {
   "cell_type": "code",
   "execution_count": null,
   "id": "bc0c84e7",
   "metadata": {},
   "outputs": [],
   "source": []
  },
  {
   "cell_type": "markdown",
   "id": "27d434c8",
   "metadata": {},
   "source": [
    "### 1. Assumptions"
   ]
  },
  {
   "cell_type": "markdown",
   "id": "0a67c7ff",
   "metadata": {},
   "source": [
    "__assume normality and equal variances__"
   ]
  },
  {
   "cell_type": "markdown",
   "id": "61a1bd3e",
   "metadata": {},
   "source": [
    "### 2. Null and Alternative Hypothesis"
   ]
  },
  {
   "cell_type": "markdown",
   "id": "3b008c18",
   "metadata": {
    "ExecuteTime": {
     "end_time": "2022-07-05T13:25:57.762105Z",
     "start_time": "2022-07-05T13:25:57.750766Z"
    }
   },
   "source": [
    "__H0: µEU = µAS (\"the two continents math score mean are equal\")__<br><br>\n",
    "\n",
    "__H1: µEU ≠ µAS (\"the two continents math score soils mean are not equal\")__"
   ]
  },
  {
   "cell_type": "markdown",
   "id": "92726469",
   "metadata": {},
   "source": [
    "### 3. Test Statistics"
   ]
  },
  {
   "cell_type": "code",
   "execution_count": 27,
   "id": "54cdbbde",
   "metadata": {
    "ExecuteTime": {
     "end_time": "2022-07-05T13:30:26.178793Z",
     "start_time": "2022-07-05T13:30:26.165495Z"
    }
   },
   "outputs": [
    {
     "data": {
      "text/plain": [
       "Ttest_indResult(statistic=0.8700553179679787, pvalue=0.38826888111307556)"
      ]
     },
     "execution_count": 27,
     "metadata": {},
     "output_type": "execute_result"
    }
   ],
   "source": [
    "# The population std is unknown, so we'll use t score\n",
    "\n",
    "m_scoreTest = stats.ttest_ind(df_EU, df_AS, equal_var=True, alternative=\"two-sided\")\n",
    "m_scoreTest"
   ]
  },
  {
   "cell_type": "markdown",
   "id": "33f2447b",
   "metadata": {},
   "source": [
    "### 4. P-value"
   ]
  },
  {
   "cell_type": "code",
   "execution_count": 28,
   "id": "52e4a20a",
   "metadata": {
    "ExecuteTime": {
     "end_time": "2022-07-05T13:31:36.299707Z",
     "start_time": "2022-07-05T13:31:36.295237Z"
    }
   },
   "outputs": [],
   "source": [
    "p_value = 0.38826888111307556"
   ]
  },
  {
   "cell_type": "markdown",
   "id": "b7378f95",
   "metadata": {},
   "source": [
    "### 5. Conclusion"
   ]
  },
  {
   "cell_type": "markdown",
   "id": "a17807c0",
   "metadata": {},
   "source": [
    "__since p_value < alpha, null hypothesis will be rejected__"
   ]
  },
  {
   "cell_type": "code",
   "execution_count": 29,
   "id": "692df058",
   "metadata": {
    "ExecuteTime": {
     "end_time": "2022-07-05T13:34:04.211122Z",
     "start_time": "2022-07-05T13:34:04.203485Z"
    }
   },
   "outputs": [
    {
     "name": "stdout",
     "output_type": "stream",
     "text": [
      "fail to reject the null hypothesis\n"
     ]
    }
   ],
   "source": [
    "alpha = 0.05\n",
    "\n",
    "if p_value < alpha:\n",
    "    print(\"Reject the null hypothesis\")\n",
    "else:\n",
    "    print(\"fail to reject the null hypothesis\")"
   ]
  },
  {
   "cell_type": "markdown",
   "id": "6de425d7",
   "metadata": {},
   "source": [
    "__There may not be any difference (on the average) for the math scores among European (EU) and Asian (AS) countries__"
   ]
  },
  {
   "cell_type": "markdown",
   "id": "54c84ec6",
   "metadata": {
    "ExecuteTime": {
     "end_time": "2022-07-05T13:38:06.398294Z",
     "start_time": "2022-07-05T13:38:06.390025Z"
    }
   },
   "source": [
    "__3. Draw side by side box-plots__"
   ]
  },
  {
   "cell_type": "code",
   "execution_count": null,
   "id": "bb737c43",
   "metadata": {},
   "outputs": [],
   "source": []
  },
  {
   "cell_type": "code",
   "execution_count": null,
   "id": "52c27121",
   "metadata": {},
   "outputs": [],
   "source": []
  },
  {
   "cell_type": "markdown",
   "id": "7f73c65e",
   "metadata": {},
   "source": [
    "## Exercise-4"
   ]
  },
  {
   "cell_type": "markdown",
   "id": "c521c2a0",
   "metadata": {},
   "source": [
    "__- A gym operator organized a 2-month exercise and diet program for 15 customers suffering from their excess weight.__<br> \n",
    "__- To evaluate whether this diet program was effective, he measured the customers' starting and ending weights and recorded them in the computer.__<br><br>  \n",
    "__- Did the exercise and diet program have an impact on customers' weight loss?__<br>  \n",
    "__- Use an α = .01 level test.__<br><br> \n",
    "\n",
    "CHECK: statistic=2.67808348404993, pvalue=0.00900646517506627"
   ]
  },
  {
   "cell_type": "markdown",
   "id": "dca90888",
   "metadata": {},
   "source": [
    "### 2. Null and Alternative Hypothesis"
   ]
  },
  {
   "cell_type": "raw",
   "id": "8d7f032d",
   "metadata": {},
   "source": []
  },
  {
   "cell_type": "markdown",
   "id": "5d85dd6b",
   "metadata": {},
   "source": [
    "__H0: µstart = µend (\"the customers' weight loss before and after the program are equal\")__<br><br>\n",
    "\n",
    "__H1: µend < µstart (\"the customers' weight measurements after the program less than  measurements before the program \")__"
   ]
  },
  {
   "cell_type": "markdown",
   "id": "1029582c",
   "metadata": {},
   "source": [
    "### 3. Test Statistics"
   ]
  },
  {
   "cell_type": "code",
   "execution_count": 33,
   "id": "a0520186",
   "metadata": {
    "ExecuteTime": {
     "end_time": "2022-07-05T14:15:52.929924Z",
     "start_time": "2022-07-05T14:15:52.884112Z"
    }
   },
   "outputs": [
    {
     "data": {
      "text/html": [
       "<div>\n",
       "<style scoped>\n",
       "    .dataframe tbody tr th:only-of-type {\n",
       "        vertical-align: middle;\n",
       "    }\n",
       "\n",
       "    .dataframe tbody tr th {\n",
       "        vertical-align: top;\n",
       "    }\n",
       "\n",
       "    .dataframe thead th {\n",
       "        text-align: right;\n",
       "    }\n",
       "</style>\n",
       "<table border=\"1\" class=\"dataframe\">\n",
       "  <thead>\n",
       "    <tr style=\"text-align: right;\">\n",
       "      <th></th>\n",
       "      <th>ID</th>\n",
       "      <th>starting</th>\n",
       "      <th>ending</th>\n",
       "    </tr>\n",
       "  </thead>\n",
       "  <tbody>\n",
       "    <tr>\n",
       "      <th>0</th>\n",
       "      <td>1</td>\n",
       "      <td>76</td>\n",
       "      <td>72</td>\n",
       "    </tr>\n",
       "    <tr>\n",
       "      <th>1</th>\n",
       "      <td>2</td>\n",
       "      <td>81</td>\n",
       "      <td>82</td>\n",
       "    </tr>\n",
       "    <tr>\n",
       "      <th>2</th>\n",
       "      <td>3</td>\n",
       "      <td>86</td>\n",
       "      <td>84</td>\n",
       "    </tr>\n",
       "    <tr>\n",
       "      <th>3</th>\n",
       "      <td>4</td>\n",
       "      <td>71</td>\n",
       "      <td>71</td>\n",
       "    </tr>\n",
       "    <tr>\n",
       "      <th>4</th>\n",
       "      <td>5</td>\n",
       "      <td>88</td>\n",
       "      <td>83</td>\n",
       "    </tr>\n",
       "    <tr>\n",
       "      <th>5</th>\n",
       "      <td>6</td>\n",
       "      <td>78</td>\n",
       "      <td>74</td>\n",
       "    </tr>\n",
       "    <tr>\n",
       "      <th>6</th>\n",
       "      <td>7</td>\n",
       "      <td>76</td>\n",
       "      <td>70</td>\n",
       "    </tr>\n",
       "    <tr>\n",
       "      <th>7</th>\n",
       "      <td>8</td>\n",
       "      <td>81</td>\n",
       "      <td>80</td>\n",
       "    </tr>\n",
       "    <tr>\n",
       "      <th>8</th>\n",
       "      <td>9</td>\n",
       "      <td>79</td>\n",
       "      <td>78</td>\n",
       "    </tr>\n",
       "    <tr>\n",
       "      <th>9</th>\n",
       "      <td>10</td>\n",
       "      <td>77</td>\n",
       "      <td>79</td>\n",
       "    </tr>\n",
       "    <tr>\n",
       "      <th>10</th>\n",
       "      <td>11</td>\n",
       "      <td>83</td>\n",
       "      <td>80</td>\n",
       "    </tr>\n",
       "    <tr>\n",
       "      <th>11</th>\n",
       "      <td>12</td>\n",
       "      <td>77</td>\n",
       "      <td>76</td>\n",
       "    </tr>\n",
       "    <tr>\n",
       "      <th>12</th>\n",
       "      <td>13</td>\n",
       "      <td>79</td>\n",
       "      <td>77</td>\n",
       "    </tr>\n",
       "    <tr>\n",
       "      <th>13</th>\n",
       "      <td>14</td>\n",
       "      <td>81</td>\n",
       "      <td>83</td>\n",
       "    </tr>\n",
       "    <tr>\n",
       "      <th>14</th>\n",
       "      <td>15</td>\n",
       "      <td>83</td>\n",
       "      <td>82</td>\n",
       "    </tr>\n",
       "  </tbody>\n",
       "</table>\n",
       "</div>"
      ],
      "text/plain": [
       "    ID  starting  ending\n",
       "0    1        76      72\n",
       "1    2        81      82\n",
       "2    3        86      84\n",
       "3    4        71      71\n",
       "4    5        88      83\n",
       "5    6        78      74\n",
       "6    7        76      70\n",
       "7    8        81      80\n",
       "8    9        79      78\n",
       "9   10        77      79\n",
       "10  11        83      80\n",
       "11  12        77      76\n",
       "12  13        79      77\n",
       "13  14        81      83\n",
       "14  15        83      82"
      ]
     },
     "execution_count": 33,
     "metadata": {},
     "output_type": "execute_result"
    }
   ],
   "source": [
    "df = pd.read_csv(\"weight - Sheet1.csv\")\n",
    "df"
   ]
  },
  {
   "cell_type": "code",
   "execution_count": 40,
   "id": "059d0510",
   "metadata": {
    "ExecuteTime": {
     "end_time": "2022-07-05T14:27:55.805965Z",
     "start_time": "2022-07-05T14:27:55.796942Z"
    }
   },
   "outputs": [
    {
     "data": {
      "text/plain": [
       "Ttest_relResult(statistic=2.6780834840499255, pvalue=0.00900646517506626)"
      ]
     },
     "execution_count": 40,
     "metadata": {},
     "output_type": "execute_result"
    }
   ],
   "source": [
    "# The population std is unknown, so we'll use t score\n",
    "\n",
    "weightTest = stats.ttest_rel(df[\"starting\"], df[\"ending\"], alternative=\"greater\")\n",
    "weightTest "
   ]
  },
  {
   "cell_type": "markdown",
   "id": "7c745588",
   "metadata": {},
   "source": [
    "### 4. P-value"
   ]
  },
  {
   "cell_type": "code",
   "execution_count": 38,
   "id": "97ef558c",
   "metadata": {
    "ExecuteTime": {
     "end_time": "2022-07-05T14:23:18.714025Z",
     "start_time": "2022-07-05T14:23:18.704147Z"
    }
   },
   "outputs": [],
   "source": [
    "p_value=0.00900646517506626"
   ]
  },
  {
   "cell_type": "markdown",
   "id": "4b130aa3",
   "metadata": {},
   "source": [
    "### 5. Conclusion"
   ]
  },
  {
   "cell_type": "markdown",
   "id": "009530d1",
   "metadata": {},
   "source": [
    "__since p_value < alpha, null hypothesis will be rejected__"
   ]
  },
  {
   "cell_type": "code",
   "execution_count": 39,
   "id": "14dff2df",
   "metadata": {
    "ExecuteTime": {
     "end_time": "2022-07-05T14:23:44.928694Z",
     "start_time": "2022-07-05T14:23:44.915651Z"
    }
   },
   "outputs": [
    {
     "name": "stdout",
     "output_type": "stream",
     "text": [
      "Reject the null hypothesis\n"
     ]
    }
   ],
   "source": [
    "alpha = 0.01\n",
    "\n",
    "if p_value < alpha:\n",
    "    print(\"Reject the null hypothesis\")\n",
    "else:\n",
    "    print(\"fail to reject the null hypothesis\")"
   ]
  },
  {
   "cell_type": "markdown",
   "id": "1e9ec0f2",
   "metadata": {},
   "source": [
    " __The exercise and diet program have a positive impact on customers' weight loss__"
   ]
  },
  {
   "cell_type": "code",
   "execution_count": null,
   "id": "a7db0479",
   "metadata": {},
   "outputs": [],
   "source": []
  }
 ],
 "metadata": {
  "kernelspec": {
   "display_name": "Python 3 (ipykernel)",
   "language": "python",
   "name": "python3"
  },
  "language_info": {
   "codemirror_mode": {
    "name": "ipython",
    "version": 3
   },
   "file_extension": ".py",
   "mimetype": "text/x-python",
   "name": "python",
   "nbconvert_exporter": "python",
   "pygments_lexer": "ipython3",
   "version": "3.9.7"
  }
 },
 "nbformat": 4,
 "nbformat_minor": 5
}
