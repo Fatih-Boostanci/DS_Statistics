{
 "cells": [
  {
   "cell_type": "markdown",
   "id": "1273638d",
   "metadata": {},
   "source": [
    "# PRE-CLASS (20 Apr 2022)"
   ]
  },
  {
   "cell_type": "markdown",
   "id": "cb0b205f",
   "metadata": {},
   "source": [
    "## Dispersion (Measure of Spread)"
   ]
  },
  {
   "cell_type": "code",
   "execution_count": 1,
   "id": "3848e677",
   "metadata": {},
   "outputs": [
    {
     "name": "stdout",
     "output_type": "stream",
     "text": [
      "Range:  78\n",
      "Variance:  539.5555555555555\n",
      "Std:  23.22833518691246\n",
      "Q1:  26.0\n",
      "Q2:  30.0\n",
      "Q3:  33.0\n",
      "IQR:  7.0\n"
     ]
    }
   ],
   "source": [
    "import numpy as np\n",
    "from scipy import stats\n",
    "\n",
    "salary = [102, 33, 26, 27, 30, 25, 33, 33, 24]\n",
    "\n",
    "print(\"Range: \", (np.max(salary - np.min(salary))))\n",
    "\n",
    "print(\"Variance: \", (np.var(salary)))\n",
    "\n",
    "print(\"Std: \", (np.std(salary)))\n",
    "\n",
    "print(\"Q1: \", (np.percentile(salary, 25)))\n",
    "\n",
    "print(\"Q2: \", (np.percentile(salary, 50)))  #   = Median\n",
    "\n",
    "print(\"Q3: \", (np.percentile(salary, 75)))\n",
    "\n",
    "print(\"IQR: \", (stats.iqr(salary)))\n",
    "\n",
    "\n",
    "\n"
   ]
  },
  {
   "cell_type": "markdown",
   "id": "dbd456f0",
   "metadata": {},
   "source": [
    "## Min &Max& Range"
   ]
  },
  {
   "cell_type": "code",
   "execution_count": 3,
   "id": "3cea3979",
   "metadata": {},
   "outputs": [],
   "source": [
    "data = [32, 36, 46, 47, 56, 69, 75, 79, 79, 88, 89, 91, 92, 93, 96, 97, 101, 105, 112, 116]"
   ]
  },
  {
   "cell_type": "code",
   "execution_count": 4,
   "id": "40eaf216",
   "metadata": {},
   "outputs": [
    {
     "data": {
      "text/plain": [
       "32"
      ]
     },
     "execution_count": 4,
     "metadata": {},
     "output_type": "execute_result"
    }
   ],
   "source": [
    "np.min(data)"
   ]
  },
  {
   "cell_type": "code",
   "execution_count": 5,
   "id": "c446338a",
   "metadata": {},
   "outputs": [
    {
     "data": {
      "text/plain": [
       "116"
      ]
     },
     "execution_count": 5,
     "metadata": {},
     "output_type": "execute_result"
    }
   ],
   "source": [
    "np.max(data)"
   ]
  },
  {
   "cell_type": "code",
   "execution_count": 6,
   "id": "adc67c41",
   "metadata": {},
   "outputs": [
    {
     "data": {
      "text/plain": [
       "84"
      ]
     },
     "execution_count": 6,
     "metadata": {},
     "output_type": "execute_result"
    }
   ],
   "source": [
    "np.max(data) - np.min(data)"
   ]
  },
  {
   "cell_type": "code",
   "execution_count": null,
   "id": "6d5bb637",
   "metadata": {},
   "outputs": [],
   "source": []
  },
  {
   "cell_type": "markdown",
   "id": "9137cd13",
   "metadata": {},
   "source": [
    "## Q1 & Q2 & Q3 & IQR"
   ]
  },
  {
   "cell_type": "code",
   "execution_count": 9,
   "id": "10335418",
   "metadata": {},
   "outputs": [],
   "source": [
    "data2 = [32, 36, 46, 47, 56, 69, 75, 79, 80, 88, 89]"
   ]
  },
  {
   "cell_type": "code",
   "execution_count": 10,
   "id": "c504f15d",
   "metadata": {},
   "outputs": [
    {
     "data": {
      "text/plain": [
       "46.5"
      ]
     },
     "execution_count": 10,
     "metadata": {},
     "output_type": "execute_result"
    }
   ],
   "source": [
    "#First Quartile(Q1)\n",
    "np.percentile(data2, 25)"
   ]
  },
  {
   "cell_type": "code",
   "execution_count": 11,
   "id": "b4929994",
   "metadata": {},
   "outputs": [
    {
     "data": {
      "text/plain": [
       "69.0"
      ]
     },
     "execution_count": 11,
     "metadata": {},
     "output_type": "execute_result"
    }
   ],
   "source": [
    "#Second Quartile(Q2)\n",
    "np.percentile(data2, 50)"
   ]
  },
  {
   "cell_type": "code",
   "execution_count": 12,
   "id": "b171a3b7",
   "metadata": {},
   "outputs": [
    {
     "data": {
      "text/plain": [
       "69.0"
      ]
     },
     "execution_count": 12,
     "metadata": {},
     "output_type": "execute_result"
    }
   ],
   "source": [
    "np.median(data2)"
   ]
  },
  {
   "cell_type": "code",
   "execution_count": 13,
   "id": "723fde51",
   "metadata": {},
   "outputs": [
    {
     "data": {
      "text/plain": [
       "79.5"
      ]
     },
     "execution_count": 13,
     "metadata": {},
     "output_type": "execute_result"
    }
   ],
   "source": [
    "#Third Quartile(Q3)\n",
    "np.percentile(data2, 75)"
   ]
  },
  {
   "cell_type": "code",
   "execution_count": 18,
   "id": "160ba718",
   "metadata": {},
   "outputs": [
    {
     "data": {
      "text/plain": [
       "33.0"
      ]
     },
     "execution_count": 18,
     "metadata": {},
     "output_type": "execute_result"
    }
   ],
   "source": [
    "# IQR\n",
    "stats.iqr(data2)"
   ]
  },
  {
   "cell_type": "code",
   "execution_count": 15,
   "id": "b0b9282e",
   "metadata": {},
   "outputs": [
    {
     "data": {
      "text/plain": [
       "33.0"
      ]
     },
     "execution_count": 15,
     "metadata": {},
     "output_type": "execute_result"
    }
   ],
   "source": [
    "iqr2 = np.percentile(data2, 75) - np.percentile(data2, 25)\n",
    "iqr2"
   ]
  },
  {
   "cell_type": "markdown",
   "id": "d6e6980c",
   "metadata": {},
   "source": [
    "## Box Plot"
   ]
  },
  {
   "cell_type": "code",
   "execution_count": 21,
   "id": "7fb45ccb",
   "metadata": {},
   "outputs": [
    {
     "data": {
      "image/png": "[encoded data removed]",
      "text/plain": [
       "<Figure size 432x288 with 1 Axes>"
      ]
     },
     "metadata": {
      "needs_background": "light"
     },
     "output_type": "display_data"
    }
   ],
   "source": [
    "import matplotlib.pyplot as plt\n",
    "plt.boxplot(data2);"
   ]
  },
  {
   "cell_type": "code",
   "execution_count": 23,
   "id": "5ad602f8",
   "metadata": {},
   "outputs": [],
   "source": [
    "data3 = [32, 36, 46, 47, 56, 69, 75, 79, 80, 88, 89, 145]"
   ]
  },
  {
   "cell_type": "code",
   "execution_count": 24,
   "id": "5f028329",
   "metadata": {},
   "outputs": [
    {
     "data": {
      "image/png": "[encoded data removed]",
      "text/plain": [
       "<Figure size 432x288 with 1 Axes>"
      ]
     },
     "metadata": {
      "needs_background": "light"
     },
     "output_type": "display_data"
    }
   ],
   "source": [
    "plt.boxplot(data3);"
   ]
  },
  {
   "cell_type": "markdown",
   "id": "1f4f35b0",
   "metadata": {},
   "source": [
    "## Standart Deviation and Variance"
   ]
  },
  {
   "cell_type": "code",
   "execution_count": 25,
   "id": "07dc5e67",
   "metadata": {},
   "outputs": [
    {
     "data": {
      "text/plain": [
       "391.68595041322317"
      ]
     },
     "execution_count": 25,
     "metadata": {},
     "output_type": "execute_result"
    }
   ],
   "source": [
    "np.var(data2)"
   ]
  },
  {
   "cell_type": "code",
   "execution_count": 26,
   "id": "aaa235a7",
   "metadata": {},
   "outputs": [
    {
     "data": {
      "text/plain": [
       "19.791057334392804"
      ]
     },
     "execution_count": 26,
     "metadata": {},
     "output_type": "execute_result"
    }
   ],
   "source": [
    "np.std(data2)"
   ]
  },
  {
   "cell_type": "code",
   "execution_count": 28,
   "id": "942bfbff",
   "metadata": {},
   "outputs": [
    {
     "data": {
      "text/plain": [
       "19.791057334392804"
      ]
     },
     "execution_count": 28,
     "metadata": {},
     "output_type": "execute_result"
    }
   ],
   "source": [
    "np.sqrt(np.var(data2))"
   ]
  },
  {
   "cell_type": "code",
   "execution_count": 29,
   "id": "f19eb8c6",
   "metadata": {},
   "outputs": [
    {
     "data": {
      "text/plain": [
       "19.791057334392804"
      ]
     },
     "execution_count": 29,
     "metadata": {},
     "output_type": "execute_result"
    }
   ],
   "source": [
    "std2 = np.var(data2) ** 0.5\n",
    "std2"
   ]
  },
  {
   "cell_type": "code",
   "execution_count": null,
   "id": "67a1ab1b",
   "metadata": {},
   "outputs": [],
   "source": []
  }
 ],
 "metadata": {
  "kernelspec": {
   "display_name": "Python 3 (ipykernel)",
   "language": "python",
   "name": "python3"
  },
  "language_info": {
   "codemirror_mode": {
    "name": "ipython",
    "version": 3
   },
   "file_extension": ".py",
   "mimetype": "text/x-python",
   "name": "python",
   "nbconvert_exporter": "python",
   "pygments_lexer": "ipython3",
   "version": "3.9.7"
  }
 },
 "nbformat": 4,
 "nbformat_minor": 5
}
